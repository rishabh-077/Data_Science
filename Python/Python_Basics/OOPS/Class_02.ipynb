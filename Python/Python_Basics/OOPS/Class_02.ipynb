{
 "cells": [
  {
   "cell_type": "code",
   "execution_count": 1,
   "id": "a568dd2c",
   "metadata": {
    "ExecuteTime": {
     "end_time": "2021-06-19T11:42:36.849231Z",
     "start_time": "2021-06-19T11:42:36.844429Z"
    }
   },
   "outputs": [],
   "source": [
    "# Types of Methods\n",
    "#     Class methods\n",
    "#     Instance Methods\n",
    "#     Static Method"
   ]
  },
  {
   "cell_type": "code",
   "execution_count": 7,
   "id": "85c3d587",
   "metadata": {
    "ExecuteTime": {
     "end_time": "2021-06-19T12:01:40.997584Z",
     "start_time": "2021-06-19T12:01:40.978060Z"
    }
   },
   "outputs": [
    {
     "name": "stdout",
     "output_type": "stream",
     "text": [
      "8876543210\n",
      "mathew@gmail.com\n",
      "2\n"
     ]
    }
   ],
   "source": [
    "class Contact:\n",
    "    contact_lst = []\n",
    "    def __init__(self, name, mob, email):\n",
    "        self.name = name\n",
    "        self.mob = mob\n",
    "        self.email = email\n",
    "        Contact.contact_lst.append(self)\n",
    "    \n",
    "    @classmethod\n",
    "    def contact_info(cls, name):\n",
    "        for i in cls.contact_lst:\n",
    "            if i.name == name:\n",
    "                print(i.mob)\n",
    "                print(i.email)\n",
    "    \n",
    "    @staticmethod\n",
    "    def my_method(a,b):\n",
    "        return a*b\n",
    "\n",
    "    \n",
    "    \n",
    "    \n",
    "c1 = Contact('Bob', 9876543210, 'bob@gmail.com')\n",
    "c2 = Contact('Mathew', 8876543210, 'mathew@gmail.com')\n",
    "\n",
    "Contact.contact_info('Mathew')\n",
    "\n",
    "Contact.my_method(10, 20)\n",
    "\n",
    "print(c1.my_method(1, 2))"
   ]
  },
  {
   "cell_type": "code",
   "execution_count": 2,
   "id": "b6d877bd",
   "metadata": {
    "ExecuteTime": {
     "end_time": "2021-06-19T11:50:04.000656Z",
     "start_time": "2021-06-19T11:50:03.997111Z"
    }
   },
   "outputs": [],
   "source": [
    "# Write a method for Contact class which takes an name of an object as an argument and gives the mob, email about theat object\n",
    "\n",
    "\n",
    "\n",
    "\n",
    "\n",
    "\n"
   ]
  },
  {
   "cell_type": "code",
   "execution_count": 12,
   "id": "569011b9",
   "metadata": {
    "ExecuteTime": {
     "end_time": "2021-06-19T12:07:28.686134Z",
     "start_time": "2021-06-19T12:07:28.672548Z"
    }
   },
   "outputs": [
    {
     "name": "stdout",
     "output_type": "stream",
     "text": [
      "Bob\n",
      "9876543210\n",
      "bob@gmail.com\n",
      "\n",
      "Mathew\n",
      "8876543210\n",
      "mathew@gmail.com\n"
     ]
    }
   ],
   "source": [
    "class Contact:\n",
    "    contact_lst = []\n",
    "    def __init__(self, name, mob, email):\n",
    "        self.name = name\n",
    "        self.mob = mob\n",
    "        self.email = email\n",
    "        Contact.contact_lst.append(self)\n",
    "        \n",
    "    def contact_details(self):\n",
    "        print(self.name)\n",
    "        print(self.mob)\n",
    "        print(self.email)\n",
    "\n",
    "c1 = Contact('Bob', 9876543210, 'bob@gmail.com')\n",
    "c2 = Contact('Mathew', 8876543210, 'mathew@gmail.com')\n",
    "\n",
    "c1.contact_details()\n",
    "print()\n",
    "c2.contact_details()\n",
    "\n",
    "        \n"
   ]
  },
  {
   "cell_type": "code",
   "execution_count": 17,
   "id": "742c8654",
   "metadata": {
    "ExecuteTime": {
     "end_time": "2021-06-19T12:10:46.412477Z",
     "start_time": "2021-06-19T12:10:46.402444Z"
    }
   },
   "outputs": [
    {
     "name": "stdout",
     "output_type": "stream",
     "text": [
      "Bob\n",
      "9876543210\n",
      "bob@gmail.com\n"
     ]
    }
   ],
   "source": [
    "class Contact:\n",
    "    contact_lst = []\n",
    "    def __init__(self, name, mob, email):\n",
    "        self.name = name\n",
    "        self.mob = mob\n",
    "        self.email = email\n",
    "        Contact.contact_lst.append(self)\n",
    "        \n",
    "    def contact_details(self):\n",
    "        print(self.name)\n",
    "        print(self.mob)\n",
    "        print(self.email)\n",
    "        \n",
    "c1 = Contact('Bob', 9876543210, 'bob@gmail.com')\n",
    "c1.contact_details()\n"
   ]
  },
  {
   "cell_type": "code",
   "execution_count": 18,
   "id": "894d3faa",
   "metadata": {
    "ExecuteTime": {
     "end_time": "2021-06-19T12:12:45.932626Z",
     "start_time": "2021-06-19T12:12:45.925025Z"
    }
   },
   "outputs": [],
   "source": [
    "# def f1(a):\n",
    "#     print(a)\n",
    "    \n",
    "# f1()"
   ]
  },
  {
   "cell_type": "code",
   "execution_count": null,
   "id": "04536623",
   "metadata": {},
   "outputs": [],
   "source": [
    "# Accessor(Getter) Methods and Mutator(Setter) Methods\n",
    "\n",
    "# Access Modifier - Private, Public, Protected\n",
    "\n",
    "# Private Indentifier - _abc -> Take special care before changing it\n",
    "# Strongly private identifier - __abc - Not accessible easily outside of the class., NameMangling\n",
    "\n"
   ]
  },
  {
   "cell_type": "code",
   "execution_count": 37,
   "id": "47b92d8a",
   "metadata": {
    "ExecuteTime": {
     "end_time": "2021-06-19T12:32:57.238681Z",
     "start_time": "2021-06-19T12:32:57.230510Z"
    }
   },
   "outputs": [
    {
     "name": "stdout",
     "output_type": "stream",
     "text": [
      "Ravi\n",
      "9876543210\n"
     ]
    }
   ],
   "source": [
    "class Employee:\n",
    "    def set_name(self,name):\n",
    "        self.__e_name = name\n",
    "        \n",
    "    def get_name(self):\n",
    "        return self.__e_name\n",
    "    \n",
    "    def set_mob(self,mob):\n",
    "        self.__e_mob = mob\n",
    "        \n",
    "    def get_mob(self):\n",
    "        return self.__e_mob\n",
    "    \n",
    "    def set_email(self,email):\n",
    "        self.__e_email = email\n",
    "        \n",
    "    def get_email(self):\n",
    "        return self.__e_email\n",
    "    \n",
    "e1 = Employee()\n",
    "e1.set_name('Ravi')\n",
    "e1.set_mob(9876543210)\n",
    "print(e1.get_name())\n",
    "print(e1.get_mob())\n",
    "\n"
   ]
  },
  {
   "cell_type": "code",
   "execution_count": 40,
   "id": "848e848e",
   "metadata": {
    "ExecuteTime": {
     "end_time": "2021-06-19T12:35:18.747139Z",
     "start_time": "2021-06-19T12:35:18.738597Z"
    }
   },
   "outputs": [
    {
     "name": "stdout",
     "output_type": "stream",
     "text": [
      "Abhishek\n",
      "Abhishek\n"
     ]
    }
   ],
   "source": [
    "# Name Mangling -\n",
    "print(e1._Employee__e_name)\n",
    "e1._Employee__e_name = 'Abhishek'\n",
    "print(e1._Employee__e_name)"
   ]
  },
  {
   "cell_type": "code",
   "execution_count": 38,
   "id": "73b6e45d",
   "metadata": {
    "ExecuteTime": {
     "end_time": "2021-06-19T12:33:00.123304Z",
     "start_time": "2021-06-19T12:33:00.117375Z"
    }
   },
   "outputs": [
    {
     "name": "stdout",
     "output_type": "stream",
     "text": [
      "['_Employee__e_mob', '_Employee__e_name', '__class__', '__delattr__', '__dict__', '__dir__', '__doc__', '__eq__', '__format__', '__ge__', '__getattribute__', '__gt__', '__hash__', '__init__', '__init_subclass__', '__le__', '__lt__', '__module__', '__ne__', '__new__', '__reduce__', '__reduce_ex__', '__repr__', '__setattr__', '__sizeof__', '__str__', '__subclasshook__', '__weakref__', 'get_email', 'get_mob', 'get_name', 'set_email', 'set_mob', 'set_name']\n"
     ]
    }
   ],
   "source": [
    "print(dir(e1))"
   ]
  },
  {
   "cell_type": "code",
   "execution_count": null,
   "id": "5b6ff0d2",
   "metadata": {},
   "outputs": [],
   "source": []
  },
  {
   "cell_type": "code",
   "execution_count": null,
   "id": "96e0d894",
   "metadata": {},
   "outputs": [],
   "source": []
  },
  {
   "cell_type": "code",
   "execution_count": null,
   "id": "ea5d998d",
   "metadata": {},
   "outputs": [],
   "source": []
  }
 ],
 "metadata": {
  "kernelspec": {
   "display_name": "Python 3",
   "language": "python",
   "name": "python3"
  },
  "language_info": {
   "codemirror_mode": {
    "name": "ipython",
    "version": 3
   },
   "file_extension": ".py",
   "mimetype": "text/x-python",
   "name": "python",
   "nbconvert_exporter": "python",
   "pygments_lexer": "ipython3",
   "version": "3.8.2"
  }
 },
 "nbformat": 4,
 "nbformat_minor": 5
}
