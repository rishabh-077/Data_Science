{
 "cells": [
  {
   "cell_type": "code",
   "execution_count": 2,
   "id": "14987c30",
   "metadata": {
    "ExecuteTime": {
     "end_time": "2021-07-04T11:35:07.420515Z",
     "start_time": "2021-07-04T11:35:07.409339Z"
    }
   },
   "outputs": [
    {
     "name": "stdout",
     "output_type": "stream",
     "text": [
      "[<class '__main__.F'>, <class '__main__.D'>, <class '__main__.A'>, <class '__main__.E'>, <class '__main__.B'>, <class '__main__.C'>, <class 'object'>]\n"
     ]
    }
   ],
   "source": [
    "# MRO Algorithm\n",
    "class A:\n",
    "    def __init__(self):\n",
    "        print('Class A Constructor')\n",
    "        super().__init__()\n",
    "        \n",
    "class B:\n",
    "    def __init__(self):\n",
    "        print('Class B Constructor')\n",
    "        super().__init__()\n",
    "        \n",
    "class C:\n",
    "    def __init__(self):\n",
    "        print('Class C Constructor')\n",
    "        super().__init__()\n",
    "        \n",
    "class D(A,B):\n",
    "    def __init__(self):\n",
    "        print('Class D Constructor')\n",
    "        super().__init__()\n",
    "        \n",
    "class E(B,C):\n",
    "    def __init__(self):\n",
    "        print('Class E Constructor')\n",
    "        super().__init__()\n",
    "        \n",
    "class F(D, E, C):\n",
    "    def __init__(self):\n",
    "        print('Class F Constructor')\n",
    "        super().__init__()\n",
    "        \n",
    "print(F.mro())\n",
    "\n",
    "MRO(F) = F+MRO(D), MRO(E), MRO(C), DEC\n",
    "       = F + DABO + EBCO + CO + DEC\n",
    "       = F + D + (ABO + EBCO + CO +EC)\n",
    "       = F + D + A + (BO + EBCO +CO +EC)\n",
    "       = F + D + A + E + (BO + BCO + CO +C)\n",
    "       = F + D + A + E + B + (O + CO + CO + C)\n",
    "       = F + D + A + E + B + C + O\n"
   ]
  },
  {
   "cell_type": "code",
   "execution_count": null,
   "id": "eb27e8bc",
   "metadata": {},
   "outputs": [],
   "source": [
    "A - AO\n",
    "B - BO\n",
    "C - CO\n",
    "D - DABO\n",
    "E - EBCO"
   ]
  },
  {
   "cell_type": "code",
   "execution_count": null,
   "id": "58cbb601",
   "metadata": {},
   "outputs": [],
   "source": [
    "# Polymorphism\n",
    "\n",
    "+ - numbers - addition\n",
    "+ - string - concatenation\n",
    "\n"
   ]
  },
  {
   "cell_type": "code",
   "execution_count": null,
   "id": "96311348",
   "metadata": {},
   "outputs": [],
   "source": [
    "# Duck Typing\n",
    "\n",
    "# Overloading\n",
    "    1. Operator Overloading\n",
    "    2. Method Overloading\n",
    "    3. Constructor Overloading\n",
    "    \n",
    "# Overriding\n",
    "    1. Method Overriding\n",
    "    2. Construtor Overriding"
   ]
  },
  {
   "cell_type": "code",
   "execution_count": 3,
   "id": "1157124f",
   "metadata": {
    "ExecuteTime": {
     "end_time": "2021-07-04T11:59:52.775772Z",
     "start_time": "2021-07-04T11:59:52.642292Z"
    }
   },
   "outputs": [
    {
     "name": "stdout",
     "output_type": "stream",
     "text": [
      "[10, 20, 30, 1, 2, 3]\n",
      "PythonLearnbay\n"
     ]
    },
    {
     "ename": "AttributeError",
     "evalue": "'my_tpl' object has no attribute 'add'",
     "output_type": "error",
     "traceback": [
      "\u001b[0;31m---------------------------------------------------------------------------\u001b[0m",
      "\u001b[0;31mAttributeError\u001b[0m                            Traceback (most recent call last)",
      "\u001b[0;32m<ipython-input-3-7e042b92e480>\u001b[0m in \u001b[0;36m<module>\u001b[0;34m\u001b[0m\n\u001b[1;32m     33\u001b[0m \u001b[0mobj_lst\u001b[0m \u001b[0;34m=\u001b[0m \u001b[0;34m[\u001b[0m\u001b[0mmy_lst\u001b[0m\u001b[0;34m(\u001b[0m\u001b[0;34m[\u001b[0m\u001b[0;36m10\u001b[0m\u001b[0;34m,\u001b[0m\u001b[0;36m20\u001b[0m\u001b[0;34m,\u001b[0m\u001b[0;36m30\u001b[0m\u001b[0;34m]\u001b[0m\u001b[0;34m,\u001b[0m \u001b[0;34m[\u001b[0m\u001b[0;36m1\u001b[0m\u001b[0;34m,\u001b[0m\u001b[0;36m2\u001b[0m\u001b[0;34m,\u001b[0m\u001b[0;36m3\u001b[0m\u001b[0;34m]\u001b[0m\u001b[0;34m)\u001b[0m\u001b[0;34m,\u001b[0m \u001b[0mmy_str\u001b[0m\u001b[0;34m(\u001b[0m\u001b[0;34m'Python'\u001b[0m\u001b[0;34m,\u001b[0m \u001b[0;34m'Learnbay'\u001b[0m\u001b[0;34m)\u001b[0m\u001b[0;34m,\u001b[0m \u001b[0mmy_tpl\u001b[0m\u001b[0;34m(\u001b[0m\u001b[0;34m(\u001b[0m\u001b[0;36m11\u001b[0m\u001b[0;34m,\u001b[0m \u001b[0;36m22\u001b[0m\u001b[0;34m,\u001b[0m \u001b[0;36m33\u001b[0m\u001b[0;34m)\u001b[0m\u001b[0;34m,\u001b[0m \u001b[0;34m(\u001b[0m\u001b[0;36m99\u001b[0m\u001b[0;34m,\u001b[0m \u001b[0;36m88\u001b[0m\u001b[0;34m,\u001b[0m \u001b[0;36m77\u001b[0m\u001b[0;34m)\u001b[0m\u001b[0;34m)\u001b[0m\u001b[0;34m]\u001b[0m\u001b[0;34m\u001b[0m\u001b[0;34m\u001b[0m\u001b[0m\n\u001b[1;32m     34\u001b[0m \u001b[0;32mfor\u001b[0m \u001b[0mi\u001b[0m \u001b[0;32min\u001b[0m \u001b[0mobj_lst\u001b[0m\u001b[0;34m:\u001b[0m\u001b[0;34m\u001b[0m\u001b[0;34m\u001b[0m\u001b[0m\n\u001b[0;32m---> 35\u001b[0;31m     \u001b[0mf1\u001b[0m\u001b[0;34m(\u001b[0m\u001b[0mi\u001b[0m\u001b[0;34m)\u001b[0m\u001b[0;34m\u001b[0m\u001b[0;34m\u001b[0m\u001b[0m\n\u001b[0m\u001b[1;32m     36\u001b[0m \u001b[0;34m\u001b[0m\u001b[0m\n",
      "\u001b[0;32m<ipython-input-3-7e042b92e480>\u001b[0m in \u001b[0;36mf1\u001b[0;34m(obj)\u001b[0m\n\u001b[1;32m     29\u001b[0m \u001b[0;34m\u001b[0m\u001b[0m\n\u001b[1;32m     30\u001b[0m \u001b[0;32mdef\u001b[0m \u001b[0mf1\u001b[0m\u001b[0;34m(\u001b[0m\u001b[0mobj\u001b[0m\u001b[0;34m)\u001b[0m\u001b[0;34m:\u001b[0m\u001b[0;34m\u001b[0m\u001b[0;34m\u001b[0m\u001b[0m\n\u001b[0;32m---> 31\u001b[0;31m     \u001b[0mprint\u001b[0m\u001b[0;34m(\u001b[0m\u001b[0mobj\u001b[0m\u001b[0;34m.\u001b[0m\u001b[0madd\u001b[0m\u001b[0;34m(\u001b[0m\u001b[0;34m)\u001b[0m\u001b[0;34m)\u001b[0m\u001b[0;34m\u001b[0m\u001b[0;34m\u001b[0m\u001b[0m\n\u001b[0m\u001b[1;32m     32\u001b[0m \u001b[0;34m\u001b[0m\u001b[0m\n\u001b[1;32m     33\u001b[0m \u001b[0mobj_lst\u001b[0m \u001b[0;34m=\u001b[0m \u001b[0;34m[\u001b[0m\u001b[0mmy_lst\u001b[0m\u001b[0;34m(\u001b[0m\u001b[0;34m[\u001b[0m\u001b[0;36m10\u001b[0m\u001b[0;34m,\u001b[0m\u001b[0;36m20\u001b[0m\u001b[0;34m,\u001b[0m\u001b[0;36m30\u001b[0m\u001b[0;34m]\u001b[0m\u001b[0;34m,\u001b[0m \u001b[0;34m[\u001b[0m\u001b[0;36m1\u001b[0m\u001b[0;34m,\u001b[0m\u001b[0;36m2\u001b[0m\u001b[0;34m,\u001b[0m\u001b[0;36m3\u001b[0m\u001b[0;34m]\u001b[0m\u001b[0;34m)\u001b[0m\u001b[0;34m,\u001b[0m \u001b[0mmy_str\u001b[0m\u001b[0;34m(\u001b[0m\u001b[0;34m'Python'\u001b[0m\u001b[0;34m,\u001b[0m \u001b[0;34m'Learnbay'\u001b[0m\u001b[0;34m)\u001b[0m\u001b[0;34m,\u001b[0m \u001b[0mmy_tpl\u001b[0m\u001b[0;34m(\u001b[0m\u001b[0;34m(\u001b[0m\u001b[0;36m11\u001b[0m\u001b[0;34m,\u001b[0m \u001b[0;36m22\u001b[0m\u001b[0;34m,\u001b[0m \u001b[0;36m33\u001b[0m\u001b[0;34m)\u001b[0m\u001b[0;34m,\u001b[0m \u001b[0;34m(\u001b[0m\u001b[0;36m99\u001b[0m\u001b[0;34m,\u001b[0m \u001b[0;36m88\u001b[0m\u001b[0;34m,\u001b[0m \u001b[0;36m77\u001b[0m\u001b[0;34m)\u001b[0m\u001b[0;34m)\u001b[0m\u001b[0;34m]\u001b[0m\u001b[0;34m\u001b[0m\u001b[0;34m\u001b[0m\u001b[0m\n",
      "\u001b[0;31mAttributeError\u001b[0m: 'my_tpl' object has no attribute 'add'"
     ]
    }
   ],
   "source": [
    "# How you can say an object is a duck?\n",
    "# If object walks like a duck, talks like a duck, swims like a duck\n",
    "\n",
    "# hasattr()\n",
    "\n",
    "class my_lst:\n",
    "    def __init__(self, var1, var2):\n",
    "        self.var1 = var1\n",
    "        self.var2 = var2\n",
    "        \n",
    "    def add(self):\n",
    "        return self.var1 + self.var2\n",
    "    \n",
    "class my_str:\n",
    "    def __init__(self, var1, var2):\n",
    "        self.var1 = var1\n",
    "        self.var2 = var2\n",
    "        \n",
    "    def add(self):\n",
    "        return self.var1 + self.var2  \n",
    "\n",
    "class my_tpl:\n",
    "    def __init__(self, var1, var2):\n",
    "        self.var1 = var1\n",
    "        self.var2 = var2\n",
    "        \n",
    "    def tpl_add(self):\n",
    "        return self.var1 + self.var2 \n",
    "    \n",
    "def f1(obj):\n",
    "    print(obj.add())\n",
    "    \n",
    "obj_lst = [my_lst([10,20,30], [1,2,3]), my_str('Python', 'Learnbay'), my_tpl((11, 22, 33), (99, 88, 77))]\n",
    "for i in obj_lst:\n",
    "    f1(i)\n",
    "\n"
   ]
  },
  {
   "cell_type": "code",
   "execution_count": 12,
   "id": "269c761a",
   "metadata": {
    "ExecuteTime": {
     "end_time": "2021-07-04T12:15:42.934727Z",
     "start_time": "2021-07-04T12:15:42.921313Z"
    }
   },
   "outputs": [
    {
     "name": "stdout",
     "output_type": "stream",
     "text": [
      "tuple object\n",
      "[10, 20, 30, 1, 2, 3]\n",
      "tuple object\n",
      "PythonLearnbay\n"
     ]
    }
   ],
   "source": [
    "class my_lst:\n",
    "    def __init__(self, var1, var2):\n",
    "        self.var1 = var1\n",
    "        self.var2 = var2\n",
    "        \n",
    "    def add(self):\n",
    "        return self.var1 + self.var2\n",
    "    \n",
    "class my_str:\n",
    "    def __init__(self, var1, var2):\n",
    "        self.var1 = var1\n",
    "        self.var2 = var2\n",
    "        \n",
    "    def add(self):\n",
    "        return self.var1 + self.var2  \n",
    "\n",
    "class my_tpl:\n",
    "    def __init__(self, var1, var2):\n",
    "        self.var1 = var1\n",
    "        self.var2 = var2\n",
    "        \n",
    "    def tpl_add(self):\n",
    "        return self.var1 + self.var2 \n",
    "    \n",
    "def main(obj):\n",
    "    if hasattr(obj, 'add'):\n",
    "        print('tuple object')\n",
    "        print(obj.add())\n",
    "    \n",
    "obj_lst = [my_lst([10,20,30], [1,2,3]), my_str('Python', 'Learnbay'), my_tpl((11, 22, 33), (99, 88, 77))]\n",
    "for i in obj_lst:\n",
    "    main(i)\n"
   ]
  },
  {
   "cell_type": "code",
   "execution_count": 7,
   "id": "5e69a814",
   "metadata": {
    "ExecuteTime": {
     "end_time": "2021-07-04T12:11:49.137518Z",
     "start_time": "2021-07-04T12:11:49.128345Z"
    }
   },
   "outputs": [
    {
     "data": {
      "text/plain": [
       "True"
      ]
     },
     "execution_count": 7,
     "metadata": {},
     "output_type": "execute_result"
    }
   ],
   "source": [
    "hasattr('10', 'count')"
   ]
  },
  {
   "cell_type": "code",
   "execution_count": 8,
   "id": "2733a3f1",
   "metadata": {
    "ExecuteTime": {
     "end_time": "2021-07-04T12:12:56.946484Z",
     "start_time": "2021-07-04T12:12:56.935468Z"
    }
   },
   "outputs": [
    {
     "data": {
      "text/plain": [
       "30"
      ]
     },
     "execution_count": 8,
     "metadata": {},
     "output_type": "execute_result"
    }
   ],
   "source": [
    "def f1(a, b):\n",
    "    return a+b\n",
    "\n",
    "f1(10,20)"
   ]
  },
  {
   "cell_type": "code",
   "execution_count": 9,
   "id": "99c84f64",
   "metadata": {
    "ExecuteTime": {
     "end_time": "2021-07-04T12:13:05.765861Z",
     "start_time": "2021-07-04T12:13:05.759441Z"
    }
   },
   "outputs": [
    {
     "data": {
      "text/plain": [
       "'Pythinclass'"
      ]
     },
     "execution_count": 9,
     "metadata": {},
     "output_type": "execute_result"
    }
   ],
   "source": [
    "f1('Pythin', 'class')"
   ]
  },
  {
   "cell_type": "code",
   "execution_count": 13,
   "id": "6e977650",
   "metadata": {
    "ExecuteTime": {
     "end_time": "2021-07-04T12:18:46.725164Z",
     "start_time": "2021-07-04T12:18:46.712647Z"
    }
   },
   "outputs": [
    {
     "data": {
      "text/plain": [
       "True"
      ]
     },
     "execution_count": 13,
     "metadata": {},
     "output_type": "execute_result"
    }
   ],
   "source": [
    "class A:\n",
    "    def m1(self):\n",
    "        print('m1 in class A')\n",
    "class B(A):\n",
    "    def m2(self):\n",
    "        print('m2 in class A')\n",
    "        \n",
    "b = B()\n",
    "\n",
    "hasattr(b, 'm1')"
   ]
  },
  {
   "cell_type": "code",
   "execution_count": 16,
   "id": "0cc7a0e0",
   "metadata": {
    "ExecuteTime": {
     "end_time": "2021-07-04T12:23:37.562861Z",
     "start_time": "2021-07-04T12:23:37.554402Z"
    }
   },
   "outputs": [
    {
     "name": "stdout",
     "output_type": "stream",
     "text": [
      "4300\n"
     ]
    }
   ],
   "source": [
    "# Operator Overloading\n",
    "\n",
    "# print(dir(str))\n",
    "\n",
    "class Mobile:\n",
    "    def __init__(self, no_of_units_per_day, total_work_days):\n",
    "        self.no_days = no_of_units_per_day\n",
    "        self.days = total_work_days\n",
    "        self.total_unit_month = self.no_days*self.days\n",
    "        \n",
    "    def __add__(self, other):\n",
    "        return self.total_unit_month+other.total_unit_month\n",
    "    \n",
    "        \n",
    "samsung = Mobile(100, 21)\n",
    "nokia = Mobile(110, 20)\n",
    "\n",
    "print(samsung+nokia)\n",
    "\n",
    "\n"
   ]
  },
  {
   "cell_type": "code",
   "execution_count": 21,
   "id": "f72607e8",
   "metadata": {
    "ExecuteTime": {
     "end_time": "2021-07-04T12:27:35.896839Z",
     "start_time": "2021-07-04T12:27:35.887958Z"
    }
   },
   "outputs": [
    {
     "name": "stdout",
     "output_type": "stream",
     "text": [
      "m1 with 2 arg\n"
     ]
    }
   ],
   "source": [
    "# Method Overloading\n",
    "\n",
    "class A:\n",
    "    def m1():\n",
    "        print('m1 without arg')\n",
    "    def m1(a):\n",
    "        print('m1 with 1 arg')\n",
    "    def m1(a, b):\n",
    "        print('m1 with 2 arg')\n",
    "        \n",
    "a = A()\n",
    "a.m1(10)\n",
    "        \n"
   ]
  },
  {
   "cell_type": "code",
   "execution_count": 19,
   "id": "80901ab2",
   "metadata": {
    "ExecuteTime": {
     "end_time": "2021-07-04T12:27:04.087385Z",
     "start_time": "2021-07-04T12:27:04.076488Z"
    }
   },
   "outputs": [
    {
     "name": "stdout",
     "output_type": "stream",
     "text": [
      "Python\n"
     ]
    }
   ],
   "source": [
    "a = 10\n",
    "a = 'Python'\n",
    "print(a)"
   ]
  },
  {
   "cell_type": "code",
   "execution_count": 26,
   "id": "a0cba3c3",
   "metadata": {
    "ExecuteTime": {
     "end_time": "2021-07-04T12:35:33.707247Z",
     "start_time": "2021-07-04T12:35:33.683594Z"
    }
   },
   "outputs": [
    {
     "name": "stdout",
     "output_type": "stream",
     "text": [
      "m1 with 2 arg\n",
      "m1 with 2 arg\n",
      "m1 with 2 arg\n",
      "m1 with 1 arg\n"
     ]
    }
   ],
   "source": [
    "class A:\n",
    "    def m1(self, a = None, b = None):\n",
    "        if (a != 0) and (b != 0):\n",
    "            print('m1 with 2 arg')\n",
    "        elif (a!= '') or (b!=''):\n",
    "            print('m1 with 1 arg')\n",
    "        else:\n",
    "            print('m1 with no arg')\n",
    "            \n",
    "a = A()\n",
    "a.m1()\n",
    "a.m1(10)\n",
    "a.m1(10, 20)\n",
    "a.m1(0, 0)"
   ]
  },
  {
   "cell_type": "code",
   "execution_count": 27,
   "id": "a7dc5a47",
   "metadata": {
    "ExecuteTime": {
     "end_time": "2021-07-04T12:36:39.392641Z",
     "start_time": "2021-07-04T12:36:39.384873Z"
    }
   },
   "outputs": [
    {
     "data": {
      "text/plain": [
       "True"
      ]
     },
     "execution_count": 27,
     "metadata": {},
     "output_type": "execute_result"
    }
   ],
   "source": [
    "0 != ''"
   ]
  },
  {
   "cell_type": "code",
   "execution_count": 29,
   "id": "43be3aa4",
   "metadata": {
    "ExecuteTime": {
     "end_time": "2021-07-04T12:38:35.684860Z",
     "start_time": "2021-07-04T12:38:35.670533Z"
    }
   },
   "outputs": [
    {
     "name": "stdout",
     "output_type": "stream",
     "text": [
      "Constrctor with 2 arg\n"
     ]
    }
   ],
   "source": [
    "# Constructor overloading\n",
    "class A:    \n",
    "    def __init__(self, a= None, b= None):\n",
    "        print('Constrctor with 2 arg')\n",
    "        \n",
    "a = A(10, 20)\n"
   ]
  },
  {
   "cell_type": "code",
   "execution_count": 42,
   "id": "749c2a23",
   "metadata": {
    "ExecuteTime": {
     "end_time": "2021-07-04T12:50:20.700035Z",
     "start_time": "2021-07-04T12:50:20.679421Z"
    }
   },
   "outputs": [
    {
     "name": "stdout",
     "output_type": "stream",
     "text": [
      "Constructr in class B\n",
      "constructor in class A\n"
     ]
    }
   ],
   "source": [
    "# Overriding\n",
    "    # Constructor overruding\n",
    "    \n",
    "class A:\n",
    "    def __init__(self, a, b):\n",
    "        print('constructor in class A')\n",
    "        \n",
    "class B(A):\n",
    "    def __init__(self, x,y,z):\n",
    "        print('Constructr in class B')\n",
    "        super().__init__(y,z)\n",
    "\n",
    "b = B(10,20, 30)"
   ]
  },
  {
   "cell_type": "code",
   "execution_count": 62,
   "id": "26d69686",
   "metadata": {
    "ExecuteTime": {
     "end_time": "2021-07-04T13:07:38.165618Z",
     "start_time": "2021-07-04T13:07:38.132414Z"
    }
   },
   "outputs": [
    {
     "name": "stdout",
     "output_type": "stream",
     "text": [
      "m1 in class C\n",
      "m1 in class A\n",
      "m1 in class B\n"
     ]
    },
    {
     "ename": "AttributeError",
     "evalue": "'super' object has no attribute 'm1'",
     "output_type": "error",
     "traceback": [
      "\u001b[0;31m---------------------------------------------------------------------------\u001b[0m",
      "\u001b[0;31mAttributeError\u001b[0m                            Traceback (most recent call last)",
      "\u001b[0;32m<ipython-input-62-6cc11e592d72>\u001b[0m in \u001b[0;36m<module>\u001b[0;34m\u001b[0m\n\u001b[1;32m     18\u001b[0m \u001b[0;34m\u001b[0m\u001b[0m\n\u001b[1;32m     19\u001b[0m \u001b[0mc\u001b[0m \u001b[0;34m=\u001b[0m \u001b[0mC\u001b[0m\u001b[0;34m(\u001b[0m\u001b[0;34m)\u001b[0m\u001b[0;34m\u001b[0m\u001b[0;34m\u001b[0m\u001b[0m\n\u001b[0;32m---> 20\u001b[0;31m \u001b[0mc\u001b[0m\u001b[0;34m.\u001b[0m\u001b[0mm1\u001b[0m\u001b[0;34m(\u001b[0m\u001b[0;34m)\u001b[0m\u001b[0;34m\u001b[0m\u001b[0;34m\u001b[0m\u001b[0m\n\u001b[0m\u001b[1;32m     21\u001b[0m \u001b[0;34m\u001b[0m\u001b[0m\n\u001b[1;32m     22\u001b[0m \u001b[0;31m# C.mro()\u001b[0m\u001b[0;34m\u001b[0m\u001b[0;34m\u001b[0m\u001b[0;34m\u001b[0m\u001b[0m\n",
      "\u001b[0;32m<ipython-input-62-6cc11e592d72>\u001b[0m in \u001b[0;36mm1\u001b[0;34m(self)\u001b[0m\n\u001b[1;32m     15\u001b[0m     \u001b[0;32mdef\u001b[0m \u001b[0mm1\u001b[0m\u001b[0;34m(\u001b[0m\u001b[0mself\u001b[0m\u001b[0;34m)\u001b[0m\u001b[0;34m:\u001b[0m\u001b[0;34m\u001b[0m\u001b[0;34m\u001b[0m\u001b[0m\n\u001b[1;32m     16\u001b[0m         \u001b[0mprint\u001b[0m\u001b[0;34m(\u001b[0m\u001b[0;34m'm1 in class C'\u001b[0m\u001b[0;34m)\u001b[0m\u001b[0;34m\u001b[0m\u001b[0;34m\u001b[0m\u001b[0m\n\u001b[0;32m---> 17\u001b[0;31m         \u001b[0msuper\u001b[0m\u001b[0;34m(\u001b[0m\u001b[0;34m)\u001b[0m\u001b[0;34m.\u001b[0m\u001b[0mm1\u001b[0m\u001b[0;34m(\u001b[0m\u001b[0;34m)\u001b[0m\u001b[0;34m\u001b[0m\u001b[0;34m\u001b[0m\u001b[0m\n\u001b[0m\u001b[1;32m     18\u001b[0m \u001b[0;34m\u001b[0m\u001b[0m\n\u001b[1;32m     19\u001b[0m \u001b[0mc\u001b[0m \u001b[0;34m=\u001b[0m \u001b[0mC\u001b[0m\u001b[0;34m(\u001b[0m\u001b[0;34m)\u001b[0m\u001b[0;34m\u001b[0m\u001b[0;34m\u001b[0m\u001b[0m\n",
      "\u001b[0;32m<ipython-input-62-6cc11e592d72>\u001b[0m in \u001b[0;36mm1\u001b[0;34m(self)\u001b[0m\n\u001b[1;32m      4\u001b[0m     \u001b[0;32mdef\u001b[0m \u001b[0mm1\u001b[0m\u001b[0;34m(\u001b[0m\u001b[0mself\u001b[0m\u001b[0;34m)\u001b[0m\u001b[0;34m:\u001b[0m\u001b[0;34m\u001b[0m\u001b[0;34m\u001b[0m\u001b[0m\n\u001b[1;32m      5\u001b[0m         \u001b[0mprint\u001b[0m\u001b[0;34m(\u001b[0m\u001b[0;34m'm1 in class A'\u001b[0m\u001b[0;34m)\u001b[0m\u001b[0;34m\u001b[0m\u001b[0;34m\u001b[0m\u001b[0m\n\u001b[0;32m----> 6\u001b[0;31m         \u001b[0msuper\u001b[0m\u001b[0;34m(\u001b[0m\u001b[0;34m)\u001b[0m\u001b[0;34m.\u001b[0m\u001b[0mm1\u001b[0m\u001b[0;34m(\u001b[0m\u001b[0;34m)\u001b[0m\u001b[0;34m\u001b[0m\u001b[0;34m\u001b[0m\u001b[0m\n\u001b[0m\u001b[1;32m      7\u001b[0m \u001b[0;34m\u001b[0m\u001b[0m\n\u001b[1;32m      8\u001b[0m \u001b[0;32mclass\u001b[0m \u001b[0mB\u001b[0m\u001b[0;34m:\u001b[0m\u001b[0;34m\u001b[0m\u001b[0;34m\u001b[0m\u001b[0m\n",
      "\u001b[0;32m<ipython-input-62-6cc11e592d72>\u001b[0m in \u001b[0;36mm1\u001b[0;34m(self)\u001b[0m\n\u001b[1;32m      9\u001b[0m     \u001b[0;32mdef\u001b[0m \u001b[0mm1\u001b[0m\u001b[0;34m(\u001b[0m\u001b[0mself\u001b[0m\u001b[0;34m)\u001b[0m\u001b[0;34m:\u001b[0m\u001b[0;34m\u001b[0m\u001b[0;34m\u001b[0m\u001b[0m\n\u001b[1;32m     10\u001b[0m         \u001b[0mprint\u001b[0m\u001b[0;34m(\u001b[0m\u001b[0;34m'm1 in class B'\u001b[0m\u001b[0;34m)\u001b[0m\u001b[0;34m\u001b[0m\u001b[0;34m\u001b[0m\u001b[0m\n\u001b[0;32m---> 11\u001b[0;31m         \u001b[0msuper\u001b[0m\u001b[0;34m(\u001b[0m\u001b[0;34m)\u001b[0m\u001b[0;34m.\u001b[0m\u001b[0mm1\u001b[0m\u001b[0;34m(\u001b[0m\u001b[0;34m)\u001b[0m\u001b[0;34m\u001b[0m\u001b[0;34m\u001b[0m\u001b[0m\n\u001b[0m\u001b[1;32m     12\u001b[0m \u001b[0;34m\u001b[0m\u001b[0m\n\u001b[1;32m     13\u001b[0m \u001b[0;34m\u001b[0m\u001b[0m\n",
      "\u001b[0;31mAttributeError\u001b[0m: 'super' object has no attribute 'm1'"
     ]
    }
   ],
   "source": [
    "# Method Overridng\n",
    "\n",
    "class A:\n",
    "    def m1(self):\n",
    "        print('m1 in class A')\n",
    "        super().m1()\n",
    "\n",
    "class B:\n",
    "    def m1(self):\n",
    "        print('m1 in class B')\n",
    "        super().m1()\n",
    "    \n",
    "        \n",
    "class C(A, B):\n",
    "    def m1(self):\n",
    "        print('m1 in class C')\n",
    "        super().m1()\n",
    "        \n",
    "c = C()\n",
    "c.m1()\n",
    "\n",
    "# C.mro()\n",
    "\n"
   ]
  },
  {
   "cell_type": "code",
   "execution_count": 57,
   "id": "b9d12104",
   "metadata": {
    "ExecuteTime": {
     "end_time": "2021-07-04T13:03:33.910169Z",
     "start_time": "2021-07-04T13:03:33.899652Z"
    }
   },
   "outputs": [
    {
     "name": "stdout",
     "output_type": "stream",
     "text": [
      "C\n",
      "A\n"
     ]
    }
   ],
   "source": [
    "class A:\n",
    "    def __init__(self):\n",
    "        print('A')\n",
    "        super().__init__()\n",
    "        \n",
    "class B:\n",
    "    def __init__(self):\n",
    "        print('B')\n",
    "        super().__init__()\n",
    "        \n",
    "class C(A):\n",
    "    def __init__(self):\n",
    "        print('C')\n",
    "        super().__init__()\n",
    "        \n",
    "c = C()\n",
    "\n"
   ]
  },
  {
   "cell_type": "code",
   "execution_count": null,
   "id": "16528cb0",
   "metadata": {},
   "outputs": [],
   "source": []
  },
  {
   "cell_type": "code",
   "execution_count": null,
   "id": "f688aeb8",
   "metadata": {},
   "outputs": [],
   "source": []
  },
  {
   "cell_type": "code",
   "execution_count": null,
   "id": "8a7dbe19",
   "metadata": {},
   "outputs": [],
   "source": []
  },
  {
   "cell_type": "code",
   "execution_count": null,
   "id": "30d01649",
   "metadata": {},
   "outputs": [],
   "source": []
  },
  {
   "cell_type": "code",
   "execution_count": null,
   "id": "7b070b14",
   "metadata": {},
   "outputs": [],
   "source": []
  },
  {
   "cell_type": "code",
   "execution_count": null,
   "id": "b27e3c36",
   "metadata": {},
   "outputs": [],
   "source": []
  },
  {
   "cell_type": "code",
   "execution_count": null,
   "id": "09c7e110",
   "metadata": {},
   "outputs": [],
   "source": []
  },
  {
   "cell_type": "code",
   "execution_count": null,
   "id": "b062e7c3",
   "metadata": {},
   "outputs": [],
   "source": []
  },
  {
   "cell_type": "code",
   "execution_count": null,
   "id": "4dc09b13",
   "metadata": {},
   "outputs": [],
   "source": []
  },
  {
   "cell_type": "code",
   "execution_count": null,
   "id": "3505e2af",
   "metadata": {},
   "outputs": [],
   "source": []
  },
  {
   "cell_type": "code",
   "execution_count": null,
   "id": "19609fac",
   "metadata": {},
   "outputs": [],
   "source": []
  },
  {
   "cell_type": "code",
   "execution_count": null,
   "id": "45f0145d",
   "metadata": {},
   "outputs": [],
   "source": []
  },
  {
   "cell_type": "code",
   "execution_count": null,
   "id": "bf20a9d6",
   "metadata": {},
   "outputs": [],
   "source": []
  },
  {
   "cell_type": "code",
   "execution_count": null,
   "id": "77c3aa7b",
   "metadata": {},
   "outputs": [],
   "source": []
  },
  {
   "cell_type": "code",
   "execution_count": null,
   "id": "a5faa180",
   "metadata": {},
   "outputs": [],
   "source": []
  },
  {
   "cell_type": "code",
   "execution_count": null,
   "id": "22e70243",
   "metadata": {},
   "outputs": [],
   "source": []
  },
  {
   "cell_type": "code",
   "execution_count": null,
   "id": "291c153d",
   "metadata": {},
   "outputs": [],
   "source": []
  },
  {
   "cell_type": "code",
   "execution_count": null,
   "id": "a72618e9",
   "metadata": {},
   "outputs": [],
   "source": []
  },
  {
   "cell_type": "code",
   "execution_count": null,
   "id": "d84c5124",
   "metadata": {},
   "outputs": [],
   "source": []
  },
  {
   "cell_type": "code",
   "execution_count": null,
   "id": "fc746b83",
   "metadata": {},
   "outputs": [],
   "source": []
  },
  {
   "cell_type": "code",
   "execution_count": null,
   "id": "1521ecbd",
   "metadata": {},
   "outputs": [],
   "source": []
  },
  {
   "cell_type": "code",
   "execution_count": null,
   "id": "1e021e68",
   "metadata": {},
   "outputs": [],
   "source": []
  },
  {
   "cell_type": "code",
   "execution_count": null,
   "id": "95a27bd0",
   "metadata": {},
   "outputs": [],
   "source": []
  },
  {
   "cell_type": "code",
   "execution_count": null,
   "id": "6cd61f10",
   "metadata": {},
   "outputs": [],
   "source": []
  },
  {
   "cell_type": "code",
   "execution_count": null,
   "id": "76d916bd",
   "metadata": {},
   "outputs": [],
   "source": []
  },
  {
   "cell_type": "code",
   "execution_count": null,
   "id": "d5460912",
   "metadata": {},
   "outputs": [],
   "source": []
  },
  {
   "cell_type": "code",
   "execution_count": null,
   "id": "6d74f6e9",
   "metadata": {},
   "outputs": [],
   "source": []
  },
  {
   "cell_type": "code",
   "execution_count": null,
   "id": "e62d3b0e",
   "metadata": {},
   "outputs": [],
   "source": []
  },
  {
   "cell_type": "code",
   "execution_count": null,
   "id": "600430cf",
   "metadata": {},
   "outputs": [],
   "source": []
  },
  {
   "cell_type": "code",
   "execution_count": null,
   "id": "e73870dc",
   "metadata": {},
   "outputs": [],
   "source": []
  },
  {
   "cell_type": "code",
   "execution_count": null,
   "id": "a2cf87da",
   "metadata": {},
   "outputs": [],
   "source": []
  },
  {
   "cell_type": "code",
   "execution_count": null,
   "id": "9a35bf5a",
   "metadata": {},
   "outputs": [],
   "source": []
  },
  {
   "cell_type": "code",
   "execution_count": null,
   "id": "f2b6a3e8",
   "metadata": {},
   "outputs": [],
   "source": []
  },
  {
   "cell_type": "code",
   "execution_count": null,
   "id": "1a43ecc4",
   "metadata": {},
   "outputs": [],
   "source": []
  },
  {
   "cell_type": "code",
   "execution_count": null,
   "id": "184142cb",
   "metadata": {},
   "outputs": [],
   "source": []
  },
  {
   "cell_type": "code",
   "execution_count": null,
   "id": "186e7b01",
   "metadata": {},
   "outputs": [],
   "source": []
  },
  {
   "cell_type": "code",
   "execution_count": null,
   "id": "c8e82179",
   "metadata": {},
   "outputs": [],
   "source": []
  },
  {
   "cell_type": "code",
   "execution_count": null,
   "id": "2e33044f",
   "metadata": {},
   "outputs": [],
   "source": []
  },
  {
   "cell_type": "code",
   "execution_count": null,
   "id": "54534ac0",
   "metadata": {},
   "outputs": [],
   "source": []
  },
  {
   "cell_type": "code",
   "execution_count": null,
   "id": "f3ff43c6",
   "metadata": {},
   "outputs": [],
   "source": []
  },
  {
   "cell_type": "code",
   "execution_count": null,
   "id": "a5883d6c",
   "metadata": {},
   "outputs": [],
   "source": []
  },
  {
   "cell_type": "code",
   "execution_count": null,
   "id": "c8278b03",
   "metadata": {},
   "outputs": [],
   "source": []
  },
  {
   "cell_type": "code",
   "execution_count": null,
   "id": "bea701b2",
   "metadata": {},
   "outputs": [],
   "source": []
  },
  {
   "cell_type": "code",
   "execution_count": null,
   "id": "8af405fd",
   "metadata": {},
   "outputs": [],
   "source": []
  },
  {
   "cell_type": "code",
   "execution_count": null,
   "id": "3b4cc727",
   "metadata": {},
   "outputs": [],
   "source": []
  },
  {
   "cell_type": "code",
   "execution_count": null,
   "id": "f417e8cc",
   "metadata": {},
   "outputs": [],
   "source": []
  },
  {
   "cell_type": "code",
   "execution_count": null,
   "id": "701a230f",
   "metadata": {},
   "outputs": [],
   "source": []
  },
  {
   "cell_type": "code",
   "execution_count": null,
   "id": "9f8b266b",
   "metadata": {},
   "outputs": [],
   "source": []
  },
  {
   "cell_type": "code",
   "execution_count": null,
   "id": "e9bea9c6",
   "metadata": {},
   "outputs": [],
   "source": []
  },
  {
   "cell_type": "code",
   "execution_count": null,
   "id": "9c3f2c4a",
   "metadata": {},
   "outputs": [],
   "source": []
  },
  {
   "cell_type": "code",
   "execution_count": null,
   "id": "499dd811",
   "metadata": {},
   "outputs": [],
   "source": []
  },
  {
   "cell_type": "code",
   "execution_count": null,
   "id": "013ab49e",
   "metadata": {},
   "outputs": [],
   "source": []
  },
  {
   "cell_type": "code",
   "execution_count": null,
   "id": "baa83e91",
   "metadata": {},
   "outputs": [],
   "source": []
  },
  {
   "cell_type": "code",
   "execution_count": null,
   "id": "bd1dd8ba",
   "metadata": {},
   "outputs": [],
   "source": []
  },
  {
   "cell_type": "code",
   "execution_count": null,
   "id": "56ad1f47",
   "metadata": {},
   "outputs": [],
   "source": []
  },
  {
   "cell_type": "code",
   "execution_count": null,
   "id": "e779a0be",
   "metadata": {},
   "outputs": [],
   "source": []
  },
  {
   "cell_type": "code",
   "execution_count": null,
   "id": "2cc4d0e4",
   "metadata": {},
   "outputs": [],
   "source": []
  },
  {
   "cell_type": "code",
   "execution_count": null,
   "id": "39a05842",
   "metadata": {},
   "outputs": [],
   "source": []
  },
  {
   "cell_type": "code",
   "execution_count": null,
   "id": "8392ddb9",
   "metadata": {},
   "outputs": [],
   "source": []
  },
  {
   "cell_type": "code",
   "execution_count": null,
   "id": "403fc2d1",
   "metadata": {},
   "outputs": [],
   "source": []
  },
  {
   "cell_type": "code",
   "execution_count": null,
   "id": "bb4cecce",
   "metadata": {},
   "outputs": [],
   "source": []
  },
  {
   "cell_type": "code",
   "execution_count": null,
   "id": "480b6947",
   "metadata": {},
   "outputs": [],
   "source": []
  },
  {
   "cell_type": "code",
   "execution_count": null,
   "id": "1de92431",
   "metadata": {},
   "outputs": [],
   "source": []
  },
  {
   "cell_type": "code",
   "execution_count": null,
   "id": "670ce439",
   "metadata": {},
   "outputs": [],
   "source": []
  }
 ],
 "metadata": {
  "kernelspec": {
   "display_name": "Python 3",
   "language": "python",
   "name": "python3"
  },
  "language_info": {
   "codemirror_mode": {
    "name": "ipython",
    "version": 3
   },
   "file_extension": ".py",
   "mimetype": "text/x-python",
   "name": "python",
   "nbconvert_exporter": "python",
   "pygments_lexer": "ipython3",
   "version": "3.8.8"
  }
 },
 "nbformat": 4,
 "nbformat_minor": 5
}
