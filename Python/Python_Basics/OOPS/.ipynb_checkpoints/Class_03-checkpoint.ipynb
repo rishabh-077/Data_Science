{
 "cells": [
  {
   "cell_type": "code",
   "execution_count": 1,
   "id": "56fd3398",
   "metadata": {
    "ExecuteTime": {
     "end_time": "2021-06-27T11:45:26.218456Z",
     "start_time": "2021-06-27T11:45:26.197387Z"
    }
   },
   "outputs": [],
   "source": [
    "# Inheritance - \n",
    "\n",
    "class Employee:\n",
    "    def set_name(self, emp_name):\n",
    "        self.emp_name = emp_name\n",
    "    \n",
    "    def get_name(self):\n",
    "        return self.emp_name\n",
    "    \n",
    "    def set_emp_id(self, emp_id):\n",
    "        self.emp_id = emp_id\n",
    "    \n",
    "    def get_emp_id(self):\n",
    "        return self.emp_id\n",
    "    \n",
    "    def set_emp_sal(self, emp_sal):\n",
    "        self.emp_sal = emp_sal\n",
    "    \n",
    "    def get_emp_sal(self):\n",
    "        return self.emp_sal\n",
    "\n",
    "\n"
   ]
  },
  {
   "cell_type": "code",
   "execution_count": 8,
   "id": "9a085025",
   "metadata": {
    "ExecuteTime": {
     "end_time": "2021-06-27T11:48:14.603619Z",
     "start_time": "2021-06-27T11:48:14.597841Z"
    }
   },
   "outputs": [],
   "source": [
    "class Manager(Employee):\n",
    "    def set_emp_designation(self, emp_designation):\n",
    "        self.emp_designation = emp_designation\n",
    "    \n",
    "    def get_emp_designation(self):\n",
    "        return self.emp_designation\n",
    "    "
   ]
  },
  {
   "cell_type": "code",
   "execution_count": null,
   "id": "92ba6093",
   "metadata": {},
   "outputs": [],
   "source": [
    "# Parent class is also called super class"
   ]
  },
  {
   "cell_type": "code",
   "execution_count": 7,
   "id": "85085833",
   "metadata": {
    "ExecuteTime": {
     "end_time": "2021-06-27T11:47:10.821849Z",
     "start_time": "2021-06-27T11:47:10.801778Z"
    }
   },
   "outputs": [
    {
     "name": "stdout",
     "output_type": "stream",
     "text": [
      "Rahul\n",
      "101\n",
      "10000\n",
      "Manager\n"
     ]
    }
   ],
   "source": [
    "m1 = Manager()\n",
    "\n",
    "m1.set_name('Rahul')\n",
    "m1.set_emp_id(101)\n",
    "m1.set_emp_sal(10000)\n",
    "m1.set_emp_designation('Manager')\n",
    "\n",
    "print(m1.get_name())\n",
    "print(m1.get_emp_id())\n",
    "print(m1.get_emp_sal())\n",
    "print(m1.get_emp_designation())"
   ]
  },
  {
   "cell_type": "code",
   "execution_count": null,
   "id": "34153852",
   "metadata": {},
   "outputs": [],
   "source": [
    "# In the above examples -\n",
    "Employee class is Parent class\n",
    "Manager class is child class\n"
   ]
  },
  {
   "cell_type": "code",
   "execution_count": 16,
   "id": "165cb73e",
   "metadata": {
    "ExecuteTime": {
     "end_time": "2021-06-27T12:02:50.231483Z",
     "start_time": "2021-06-27T12:02:50.223875Z"
    }
   },
   "outputs": [],
   "source": [
    "class Employee:\n",
    "    def __init__(self, ename, eid, esal):\n",
    "        self.ename = ename\n",
    "        self.eid = eid\n",
    "        self.esal = esal\n",
    "        \n",
    "# e1 = Employee('Rahul', 101, 10000)\n"
   ]
  },
  {
   "cell_type": "code",
   "execution_count": 14,
   "id": "a4724f8d",
   "metadata": {
    "ExecuteTime": {
     "end_time": "2021-06-27T11:55:20.150681Z",
     "start_time": "2021-06-27T11:55:20.142817Z"
    }
   },
   "outputs": [
    {
     "name": "stdout",
     "output_type": "stream",
     "text": [
      "Rahul\n",
      "101\n",
      "10000\n"
     ]
    }
   ],
   "source": [
    "# Child class with parent class attributes inside the construtor\n",
    "class Manager(Employee):\n",
    "    pass\n",
    "\n",
    "m1 = Manager('Rahul', 101, 10000)\n",
    "print(m1.ename)\n",
    "print(m1.eid)\n",
    "print(m1.esal)"
   ]
  },
  {
   "cell_type": "code",
   "execution_count": 24,
   "id": "66c372df",
   "metadata": {
    "ExecuteTime": {
     "end_time": "2021-06-27T12:04:58.487162Z",
     "start_time": "2021-06-27T12:04:58.479573Z"
    }
   },
   "outputs": [],
   "source": [
    "# Child class with extra attributes inside teh construtor\n",
    "class Manager(Employee):\n",
    "    def __init__(self, ename, eid, esal, edesignation):\n",
    "        super().__init__(ename, eid, esal)\n",
    "        self.edesignation = edesignation"
   ]
  },
  {
   "cell_type": "code",
   "execution_count": 25,
   "id": "8846f15f",
   "metadata": {
    "ExecuteTime": {
     "end_time": "2021-06-27T12:05:00.345224Z",
     "start_time": "2021-06-27T12:05:00.333362Z"
    }
   },
   "outputs": [
    {
     "name": "stdout",
     "output_type": "stream",
     "text": [
      "Rahul\n",
      "101\n",
      "10000\n",
      "Manager\n"
     ]
    }
   ],
   "source": [
    "\n",
    "m1 = Manager('Rahul', 101, 10000, 'Manager')\n",
    "\n",
    "print(m1.ename)\n",
    "print(m1.eid)\n",
    "print(m1.esal)\n",
    "print(m1.edesignation)"
   ]
  },
  {
   "cell_type": "code",
   "execution_count": 31,
   "id": "01b4e46a",
   "metadata": {
    "ExecuteTime": {
     "end_time": "2021-06-27T12:16:30.983827Z",
     "start_time": "2021-06-27T12:16:30.970106Z"
    }
   },
   "outputs": [
    {
     "name": "stdout",
     "output_type": "stream",
     "text": [
      "Constructor in class C\n",
      "Constructor in class B\n",
      "Constructor in class A\n"
     ]
    }
   ],
   "source": [
    "# MultiLevel Inheritance\n",
    "class A:\n",
    "    def __init__(self):\n",
    "        print('Constructor in class A')\n",
    "        super().__init__()\n",
    "\n",
    "class B(A):\n",
    "    def __init__(self):\n",
    "        print('Constructor in class B')\n",
    "        super().__init__()\n",
    "        \n",
    "class C(B):\n",
    "    def __init__(self):\n",
    "        print('Constructor in class C')\n",
    "        super().__init__()\n",
    "        \n",
    "c1 = C()"
   ]
  },
  {
   "cell_type": "code",
   "execution_count": null,
   "id": "9fb556b6",
   "metadata": {},
   "outputs": [],
   "source": [
    "# Note Every class in Python Inherits Object class which is built-in class\\\n",
    "# Default constructor which NULL constructor"
   ]
  },
  {
   "cell_type": "code",
   "execution_count": 72,
   "id": "d2f1e15b",
   "metadata": {
    "ExecuteTime": {
     "end_time": "2021-06-27T12:43:48.115305Z",
     "start_time": "2021-06-27T12:43:48.095388Z"
    }
   },
   "outputs": [
    {
     "name": "stdout",
     "output_type": "stream",
     "text": [
      "Constructor in class C\n",
      "Constructor in class A\n"
     ]
    },
    {
     "data": {
      "text/plain": [
       "[__main__.C, __main__.A, __main__.B, __main__.D, object]"
      ]
     },
     "execution_count": 72,
     "metadata": {},
     "output_type": "execute_result"
    }
   ],
   "source": [
    "# Multpile Inheritance\n",
    "class A:\n",
    "    def __init__(self):\n",
    "        print('Constructor in class A')\n",
    "#         super().__init__()\n",
    "\n",
    "        \n",
    "\n",
    "class B:\n",
    "    def __init__(self):\n",
    "        print('Constructor in class B')\n",
    "#         super().__init__()\n",
    "        \n",
    "class D:\n",
    "    def __init__(self):\n",
    "        print('Constructor in class D')\n",
    "#         super().__init__()\n",
    "    \n",
    "        \n",
    "class C(A,B,D):\n",
    "    def __init__(self):\n",
    "        print('Constructor in class C')\n",
    "        super().__init__()\n",
    "    \n",
    "\n",
    "c1 = C()\n",
    "\n",
    "C.mro()"
   ]
  },
  {
   "cell_type": "code",
   "execution_count": 34,
   "id": "e1523a0d",
   "metadata": {
    "ExecuteTime": {
     "end_time": "2021-06-27T12:18:46.167798Z",
     "start_time": "2021-06-27T12:18:46.162031Z"
    }
   },
   "outputs": [],
   "source": [
    "# help(object)"
   ]
  },
  {
   "cell_type": "code",
   "execution_count": 33,
   "id": "23b4c7c1",
   "metadata": {
    "ExecuteTime": {
     "end_time": "2021-06-27T12:17:50.365813Z",
     "start_time": "2021-06-27T12:17:50.357664Z"
    }
   },
   "outputs": [
    {
     "name": "stdout",
     "output_type": "stream",
     "text": [
      "['ArithmeticError', 'AssertionError', 'AttributeError', 'BaseException', 'BlockingIOError', 'BrokenPipeError', 'BufferError', 'BytesWarning', 'ChildProcessError', 'ConnectionAbortedError', 'ConnectionError', 'ConnectionRefusedError', 'ConnectionResetError', 'DeprecationWarning', 'EOFError', 'Ellipsis', 'EnvironmentError', 'Exception', 'False', 'FileExistsError', 'FileNotFoundError', 'FloatingPointError', 'FutureWarning', 'GeneratorExit', 'IOError', 'ImportError', 'ImportWarning', 'IndentationError', 'IndexError', 'InterruptedError', 'IsADirectoryError', 'KeyError', 'KeyboardInterrupt', 'LookupError', 'MemoryError', 'ModuleNotFoundError', 'NameError', 'None', 'NotADirectoryError', 'NotImplemented', 'NotImplementedError', 'OSError', 'OverflowError', 'PendingDeprecationWarning', 'PermissionError', 'ProcessLookupError', 'RecursionError', 'ReferenceError', 'ResourceWarning', 'RuntimeError', 'RuntimeWarning', 'StopAsyncIteration', 'StopIteration', 'SyntaxError', 'SyntaxWarning', 'SystemError', 'SystemExit', 'TabError', 'TimeoutError', 'True', 'TypeError', 'UnboundLocalError', 'UnicodeDecodeError', 'UnicodeEncodeError', 'UnicodeError', 'UnicodeTranslateError', 'UnicodeWarning', 'UserWarning', 'ValueError', 'Warning', 'ZeroDivisionError', '__IPYTHON__', '__build_class__', '__debug__', '__doc__', '__import__', '__loader__', '__name__', '__package__', '__spec__', 'abs', 'all', 'any', 'ascii', 'bin', 'bool', 'breakpoint', 'bytearray', 'bytes', 'callable', 'chr', 'classmethod', 'compile', 'complex', 'copyright', 'credits', 'delattr', 'dict', 'dir', 'display', 'divmod', 'enumerate', 'eval', 'exec', 'filter', 'float', 'format', 'frozenset', 'get_ipython', 'getattr', 'globals', 'hasattr', 'hash', 'help', 'hex', 'id', 'input', 'int', 'isinstance', 'issubclass', 'iter', 'len', 'license', 'list', 'locals', 'map', 'max', 'memoryview', 'min', 'next', 'object', 'oct', 'open', 'ord', 'pow', 'print', 'property', 'range', 'repr', 'reversed', 'round', 'set', 'setattr', 'slice', 'sorted', 'staticmethod', 'str', 'sum', 'super', 'tuple', 'type', 'vars', 'zip']\n"
     ]
    }
   ],
   "source": [
    "print(dir(__builtins__))"
   ]
  },
  {
   "cell_type": "code",
   "execution_count": 45,
   "id": "e7d48b42",
   "metadata": {
    "ExecuteTime": {
     "end_time": "2021-06-27T12:25:36.972442Z",
     "start_time": "2021-06-27T12:25:36.964118Z"
    }
   },
   "outputs": [
    {
     "name": "stdout",
     "output_type": "stream",
     "text": [
      "Constructor\n"
     ]
    }
   ],
   "source": [
    "class A:\n",
    "    def __init__(self):\n",
    "        print('Constructor')\n",
    "\n",
    "class A(A):\n",
    "    pass\n",
    "\n",
    "a = A()"
   ]
  },
  {
   "cell_type": "code",
   "execution_count": 68,
   "id": "b55e650d",
   "metadata": {
    "ExecuteTime": {
     "end_time": "2021-06-27T12:42:20.091983Z",
     "start_time": "2021-06-27T12:42:20.076674Z"
    }
   },
   "outputs": [
    {
     "name": "stdout",
     "output_type": "stream",
     "text": [
      "constructor in Class C\n"
     ]
    },
    {
     "data": {
      "text/plain": [
       "[__main__.C, __main__.A, __main__.B, object]"
      ]
     },
     "execution_count": 68,
     "metadata": {},
     "output_type": "execute_result"
    }
   ],
   "source": [
    "class A:\n",
    "    def __init__(self):\n",
    "        print(\"constructor in Class A\")\n",
    "                \n",
    "class B:\n",
    "    def __init__(self):\n",
    "        print(\"constructor in Class B\") \n",
    "               \n",
    "class C(A,B):\n",
    "    def __init__(self):\n",
    "        print(\"constructor in Class C\") \n",
    "        \n",
    "c1 = C()\n",
    "\n",
    "C.mro()"
   ]
  },
  {
   "cell_type": "code",
   "execution_count": 63,
   "id": "05137c26",
   "metadata": {
    "ExecuteTime": {
     "end_time": "2021-06-27T12:38:59.626804Z",
     "start_time": "2021-06-27T12:38:59.607869Z"
    }
   },
   "outputs": [
    {
     "name": "stdout",
     "output_type": "stream",
     "text": [
      "2nd Constructor of class A\n",
      "Hello\n"
     ]
    },
    {
     "ename": "TypeError",
     "evalue": "__str__ returned non-string (type NoneType)",
     "output_type": "error",
     "traceback": [
      "\u001b[0;31m---------------------------------------------------------------------------\u001b[0m",
      "\u001b[0;31mTypeError\u001b[0m                                 Traceback (most recent call last)",
      "\u001b[0;32m<ipython-input-63-8b37312865ea>\u001b[0m in \u001b[0;36m<module>\u001b[0;34m\u001b[0m\n\u001b[1;32m      7\u001b[0m \u001b[0;34m\u001b[0m\u001b[0m\n\u001b[1;32m      8\u001b[0m \u001b[0ma\u001b[0m \u001b[0;34m=\u001b[0m \u001b[0mA\u001b[0m\u001b[0;34m(\u001b[0m\u001b[0;36m1\u001b[0m\u001b[0;34m,\u001b[0m \u001b[0;36m2\u001b[0m\u001b[0;34m,\u001b[0m \u001b[0;36m20\u001b[0m\u001b[0;34m)\u001b[0m\u001b[0;34m\u001b[0m\u001b[0;34m\u001b[0m\u001b[0m\n\u001b[0;32m----> 9\u001b[0;31m \u001b[0mprint\u001b[0m\u001b[0;34m(\u001b[0m\u001b[0ma\u001b[0m\u001b[0;34m)\u001b[0m\u001b[0;34m\u001b[0m\u001b[0;34m\u001b[0m\u001b[0m\n\u001b[0m",
      "\u001b[0;31mTypeError\u001b[0m: __str__ returned non-string (type NoneType)"
     ]
    }
   ],
   "source": [
    "class A:\n",
    "    def __init__(self, a, b, c):\n",
    "        print('2nd Constructor of class A')\n",
    "        \n",
    "    def __repr__(self):\n",
    "        print('Hello')\n",
    "        \n",
    "a = A(1, 2, 20)\n"
   ]
  },
  {
   "cell_type": "code",
   "execution_count": null,
   "id": "9aa76f9c",
   "metadata": {},
   "outputs": [],
   "source": [
    "a = 10\n",
    "a = 1000\n",
    "print(a)"
   ]
  },
  {
   "cell_type": "code",
   "execution_count": 58,
   "id": "99cedb32",
   "metadata": {
    "ExecuteTime": {
     "end_time": "2021-06-27T12:33:12.026646Z",
     "start_time": "2021-06-27T12:33:12.022481Z"
    }
   },
   "outputs": [
    {
     "name": "stdout",
     "output_type": "stream",
     "text": [
      "['__abs__', '__add__', '__and__', '__bool__', '__ceil__', '__class__', '__delattr__', '__dir__', '__divmod__', '__doc__', '__eq__', '__float__', '__floor__', '__floordiv__', '__format__', '__ge__', '__getattribute__', '__getnewargs__', '__gt__', '__hash__', '__index__', '__init__', '__init_subclass__', '__int__', '__invert__', '__le__', '__lshift__', '__lt__', '__mod__', '__mul__', '__ne__', '__neg__', '__new__', '__or__', '__pos__', '__pow__', '__radd__', '__rand__', '__rdivmod__', '__reduce__', '__reduce_ex__', '__repr__', '__rfloordiv__', '__rlshift__', '__rmod__', '__rmul__', '__ror__', '__round__', '__rpow__', '__rrshift__', '__rshift__', '__rsub__', '__rtruediv__', '__rxor__', '__setattr__', '__sizeof__', '__str__', '__sub__', '__subclasshook__', '__truediv__', '__trunc__', '__xor__', 'as_integer_ratio', 'bit_length', 'conjugate', 'denominator', 'from_bytes', 'imag', 'numerator', 'real', 'to_bytes']\n"
     ]
    }
   ],
   "source": [
    "print(dir(int))"
   ]
  },
  {
   "cell_type": "code",
   "execution_count": 66,
   "id": "1d11e10d",
   "metadata": {
    "ExecuteTime": {
     "end_time": "2021-06-27T12:41:46.745087Z",
     "start_time": "2021-06-27T12:41:46.731998Z"
    }
   },
   "outputs": [
    {
     "name": "stdout",
     "output_type": "stream",
     "text": [
      "4300\n"
     ]
    }
   ],
   "source": [
    "class Mobile:\n",
    "    def __init__(self, no_of_units_per_day, total_work_days):\n",
    "        self.no_days = no_of_units_per_day\n",
    "        self.days = total_work_days\n",
    "        self.total_unit_month = self.no_days*self.days\n",
    "        \n",
    "    def __add__(self, other):\n",
    "        return self.total_unit_month+other.total_unit_month\n",
    "    \n",
    "        \n",
    "samsung = Mobile(100, 21)\n",
    "nokia = Mobile(110, 20)\n",
    "\n",
    "print(samsung+nokia)"
   ]
  },
  {
   "cell_type": "code",
   "execution_count": 64,
   "id": "b358224b",
   "metadata": {
    "ExecuteTime": {
     "end_time": "2021-06-27T12:39:50.904500Z",
     "start_time": "2021-06-27T12:39:50.896308Z"
    }
   },
   "outputs": [
    {
     "name": "stdout",
     "output_type": "stream",
     "text": [
      "['__add__', '__class__', '__contains__', '__delattr__', '__dir__', '__doc__', '__eq__', '__format__', '__ge__', '__getattribute__', '__getitem__', '__getnewargs__', '__gt__', '__hash__', '__init__', '__init_subclass__', '__iter__', '__le__', '__len__', '__lt__', '__mod__', '__mul__', '__ne__', '__new__', '__reduce__', '__reduce_ex__', '__repr__', '__rmod__', '__rmul__', '__setattr__', '__sizeof__', '__str__', '__subclasshook__', 'capitalize', 'casefold', 'center', 'count', 'encode', 'endswith', 'expandtabs', 'find', 'format', 'format_map', 'index', 'isalnum', 'isalpha', 'isascii', 'isdecimal', 'isdigit', 'isidentifier', 'islower', 'isnumeric', 'isprintable', 'isspace', 'istitle', 'isupper', 'join', 'ljust', 'lower', 'lstrip', 'maketrans', 'partition', 'replace', 'rfind', 'rindex', 'rjust', 'rpartition', 'rsplit', 'rstrip', 'split', 'splitlines', 'startswith', 'strip', 'swapcase', 'title', 'translate', 'upper', 'zfill']\n"
     ]
    }
   ],
   "source": [
    "print(dir(str))"
   ]
  },
  {
   "cell_type": "code",
   "execution_count": 73,
   "id": "a05bf3da",
   "metadata": {
    "ExecuteTime": {
     "end_time": "2021-06-27T12:50:01.661264Z",
     "start_time": "2021-06-27T12:50:01.647647Z"
    }
   },
   "outputs": [
    {
     "name": "stdout",
     "output_type": "stream",
     "text": [
      "Class F Constructor\n",
      "Class D Constructor\n",
      "Class A Constructor\n",
      "Class E Constructor\n",
      "Class B Constructor\n",
      "Class C Constructor\n"
     ]
    }
   ],
   "source": [
    "class A:\n",
    "    def __init__(self):\n",
    "        print('Class A Constructor')\n",
    "        super().__init__()\n",
    "        \n",
    "class B:\n",
    "    def __init__(self):\n",
    "        print('Class B Constructor')\n",
    "        super().__init__()\n",
    "        \n",
    "class C:\n",
    "    def __init__(self):\n",
    "        print('Class C Constructor')\n",
    "        super().__init__()\n",
    "        \n",
    "class D(A,B):\n",
    "    def __init__(self):\n",
    "        print('Class D Constructor')\n",
    "        super().__init__()\n",
    "        \n",
    "class E(B,C):\n",
    "    def __init__(self):\n",
    "        print('Class E Constructor')\n",
    "        super().__init__()\n",
    "        \n",
    "class F(D, E, C):\n",
    "    def __init__(self):\n",
    "        print('Class F Constructor')\n",
    "        super().__init__()\n",
    "        \n",
    "f = F()"
   ]
  },
  {
   "cell_type": "code",
   "execution_count": null,
   "id": "f30743f2",
   "metadata": {},
   "outputs": [],
   "source": []
  },
  {
   "cell_type": "code",
   "execution_count": null,
   "id": "a8aa22ce",
   "metadata": {},
   "outputs": [],
   "source": []
  },
  {
   "cell_type": "code",
   "execution_count": null,
   "id": "7a0b7b78",
   "metadata": {},
   "outputs": [],
   "source": []
  },
  {
   "cell_type": "code",
   "execution_count": null,
   "id": "50743472",
   "metadata": {},
   "outputs": [],
   "source": []
  },
  {
   "cell_type": "code",
   "execution_count": null,
   "id": "9821d2fe",
   "metadata": {},
   "outputs": [],
   "source": []
  },
  {
   "cell_type": "code",
   "execution_count": null,
   "id": "09b95f1f",
   "metadata": {},
   "outputs": [],
   "source": []
  },
  {
   "cell_type": "code",
   "execution_count": null,
   "id": "6ef9fa45",
   "metadata": {},
   "outputs": [],
   "source": []
  },
  {
   "cell_type": "code",
   "execution_count": null,
   "id": "048e03ca",
   "metadata": {},
   "outputs": [],
   "source": []
  },
  {
   "cell_type": "code",
   "execution_count": null,
   "id": "fe420dac",
   "metadata": {},
   "outputs": [],
   "source": []
  },
  {
   "cell_type": "code",
   "execution_count": null,
   "id": "2f12e1d1",
   "metadata": {},
   "outputs": [],
   "source": []
  },
  {
   "cell_type": "code",
   "execution_count": null,
   "id": "546ba2be",
   "metadata": {},
   "outputs": [],
   "source": []
  },
  {
   "cell_type": "code",
   "execution_count": null,
   "id": "e1670e5f",
   "metadata": {},
   "outputs": [],
   "source": []
  },
  {
   "cell_type": "code",
   "execution_count": null,
   "id": "acb834f3",
   "metadata": {},
   "outputs": [],
   "source": []
  },
  {
   "cell_type": "code",
   "execution_count": null,
   "id": "87494d99",
   "metadata": {},
   "outputs": [],
   "source": []
  },
  {
   "cell_type": "code",
   "execution_count": null,
   "id": "8e827b21",
   "metadata": {},
   "outputs": [],
   "source": []
  },
  {
   "cell_type": "code",
   "execution_count": null,
   "id": "02d3bdcf",
   "metadata": {},
   "outputs": [],
   "source": []
  },
  {
   "cell_type": "code",
   "execution_count": null,
   "id": "0b8d463b",
   "metadata": {},
   "outputs": [],
   "source": []
  },
  {
   "cell_type": "code",
   "execution_count": null,
   "id": "1958adde",
   "metadata": {},
   "outputs": [],
   "source": []
  },
  {
   "cell_type": "code",
   "execution_count": null,
   "id": "595ff333",
   "metadata": {},
   "outputs": [],
   "source": []
  },
  {
   "cell_type": "code",
   "execution_count": null,
   "id": "606276d7",
   "metadata": {},
   "outputs": [],
   "source": []
  },
  {
   "cell_type": "code",
   "execution_count": null,
   "id": "d752d569",
   "metadata": {},
   "outputs": [],
   "source": []
  },
  {
   "cell_type": "code",
   "execution_count": null,
   "id": "6fd93848",
   "metadata": {},
   "outputs": [],
   "source": []
  },
  {
   "cell_type": "code",
   "execution_count": null,
   "id": "0209834a",
   "metadata": {},
   "outputs": [],
   "source": []
  },
  {
   "cell_type": "code",
   "execution_count": null,
   "id": "0d5e2061",
   "metadata": {},
   "outputs": [],
   "source": []
  },
  {
   "cell_type": "code",
   "execution_count": null,
   "id": "dc694e9b",
   "metadata": {},
   "outputs": [],
   "source": []
  },
  {
   "cell_type": "code",
   "execution_count": null,
   "id": "55021959",
   "metadata": {},
   "outputs": [],
   "source": []
  },
  {
   "cell_type": "code",
   "execution_count": null,
   "id": "63732c3a",
   "metadata": {},
   "outputs": [],
   "source": []
  },
  {
   "cell_type": "code",
   "execution_count": null,
   "id": "85989513",
   "metadata": {},
   "outputs": [],
   "source": []
  },
  {
   "cell_type": "code",
   "execution_count": null,
   "id": "497ee8eb",
   "metadata": {},
   "outputs": [],
   "source": []
  },
  {
   "cell_type": "code",
   "execution_count": null,
   "id": "ff5e4a39",
   "metadata": {},
   "outputs": [],
   "source": []
  },
  {
   "cell_type": "code",
   "execution_count": null,
   "id": "cf23cbad",
   "metadata": {},
   "outputs": [],
   "source": []
  },
  {
   "cell_type": "code",
   "execution_count": null,
   "id": "51f3d746",
   "metadata": {},
   "outputs": [],
   "source": []
  },
  {
   "cell_type": "code",
   "execution_count": null,
   "id": "cfb4cf90",
   "metadata": {},
   "outputs": [],
   "source": []
  },
  {
   "cell_type": "code",
   "execution_count": null,
   "id": "b3a3fc72",
   "metadata": {},
   "outputs": [],
   "source": []
  },
  {
   "cell_type": "code",
   "execution_count": null,
   "id": "05795cb6",
   "metadata": {},
   "outputs": [],
   "source": []
  },
  {
   "cell_type": "code",
   "execution_count": null,
   "id": "0ce71981",
   "metadata": {},
   "outputs": [],
   "source": []
  },
  {
   "cell_type": "code",
   "execution_count": null,
   "id": "bf348c34",
   "metadata": {},
   "outputs": [],
   "source": []
  }
 ],
 "metadata": {
  "kernelspec": {
   "display_name": "Python 3",
   "language": "python",
   "name": "python3"
  },
  "language_info": {
   "codemirror_mode": {
    "name": "ipython",
    "version": 3
   },
   "file_extension": ".py",
   "mimetype": "text/x-python",
   "name": "python",
   "nbconvert_exporter": "python",
   "pygments_lexer": "ipython3",
   "version": "3.8.8"
  }
 },
 "nbformat": 4,
 "nbformat_minor": 5
}
