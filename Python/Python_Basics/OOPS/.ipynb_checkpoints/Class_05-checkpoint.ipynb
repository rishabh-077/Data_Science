{
 "cells": [
  {
   "cell_type": "code",
   "execution_count": null,
   "id": "3db04de9",
   "metadata": {},
   "outputs": [],
   "source": [
    "# Abstract class\n",
    "# Abstract MEthod\n",
    "# Interface\n"
   ]
  },
  {
   "cell_type": "code",
   "execution_count": null,
   "id": "106f4317",
   "metadata": {},
   "outputs": [],
   "source": [
    "# Conceret class - Class which has the implementation - Concrete class\n",
    "\n",
    "class Employee:\n",
    "    def __init__(self, emp_name, emp_id, emp_sal):\n",
    "        self.emp_name = emp_name\n",
    "        \n",
    "    def disply_details(self):\n",
    "        print()\n",
    "\n",
    "\n",
    "\n"
   ]
  },
  {
   "cell_type": "code",
   "execution_count": 5,
   "id": "38984499",
   "metadata": {
    "ExecuteTime": {
     "end_time": "2021-07-18T11:43:06.771534Z",
     "start_time": "2021-07-18T11:43:06.759689Z"
    }
   },
   "outputs": [
    {
     "name": "stdout",
     "output_type": "stream",
     "text": [
      "Constructor of Abstract class A\n"
     ]
    }
   ],
   "source": [
    "# Abstract class - class with at least one method which does not have any implementation.\n",
    "# The method which does not have any implementation is called abstract method.\n",
    "# It is importat to provide the implementation of abstract method in child class.\n",
    "# We can not instatntoate the abstract class\n",
    "# For defining the abstract class, the class has to inherit *abc* class.\n",
    "\n",
    "from abc import ABC, abstractmethod\n",
    "class A(ABC):\n",
    "    def __init__(self):\n",
    "        print('Constructor of Abstract class A')\n",
    "        \n",
    "    def m8(self):\n",
    "        print('Method m8 in class A')\n",
    "        \n",
    "    @abstractmethod\n",
    "    def m1(self):\n",
    "        pass\n",
    "\n",
    "# a = A()\n",
    "\n",
    "class Child(A):\n",
    "    def m3(self):\n",
    "        print('m3 in class Child')\n",
    "        \n",
    "    def m1(self):\n",
    "        print('m1 in class Child')\n",
    "        \n",
    "c1 = Child()\n",
    "\n",
    "\n"
   ]
  },
  {
   "cell_type": "code",
   "execution_count": 1,
   "id": "ba295792",
   "metadata": {
    "ExecuteTime": {
     "end_time": "2021-07-18T11:40:38.921127Z",
     "start_time": "2021-07-18T11:40:38.909302Z"
    }
   },
   "outputs": [],
   "source": [
    "class B:\n",
    "    def m2(self):\n",
    "        pass\n",
    "    \n",
    "b = B()"
   ]
  },
  {
   "cell_type": "code",
   "execution_count": 8,
   "id": "f3ee3196",
   "metadata": {
    "ExecuteTime": {
     "end_time": "2021-07-18T11:53:39.939563Z",
     "start_time": "2021-07-18T11:53:39.931422Z"
    }
   },
   "outputs": [
    {
     "name": "stdout",
     "output_type": "stream",
     "text": [
      "Ordering Pizza from Pizzahut using Zomato App\n"
     ]
    }
   ],
   "source": [
    "# Interface - If all the methods in a class are abstract method then that class is called interface.\n",
    "# You will not have any concrete method.\n",
    "\n",
    "\n",
    "class Pizzahut(ABC):\n",
    "    \n",
    "    @abstractmethod\n",
    "    def order_pizza(self):\n",
    "        pass\n",
    "    \n",
    "    @abstractmethod\n",
    "    def add_toppings(self):\n",
    "        pass\n",
    "    \n",
    "    @abstractmethod\n",
    "    def make_payment(self):\n",
    "        pass\n",
    "\n",
    "\n",
    "class Zomato(Pizzahut):\n",
    "    \n",
    "    def order_pizza(self):\n",
    "        print('Ordering Pizza from Pizzahut using Zomato App')\n",
    "        \n",
    "    def add_toppings(self):\n",
    "        print('Adding Toppings on the Pizza')\n",
    "        \n",
    "    def make_payment(self):\n",
    "        print('Make Payment using Paytm')\n",
    "\n",
    "        \n",
    "z1 = Zomato()\n",
    "z1.order_pizza()"
   ]
  },
  {
   "cell_type": "code",
   "execution_count": null,
   "id": "9662bda5",
   "metadata": {},
   "outputs": [],
   "source": []
  },
  {
   "cell_type": "code",
   "execution_count": null,
   "id": "c106b475",
   "metadata": {},
   "outputs": [],
   "source": []
  },
  {
   "cell_type": "code",
   "execution_count": null,
   "id": "0a2ec7bf",
   "metadata": {},
   "outputs": [],
   "source": []
  },
  {
   "cell_type": "code",
   "execution_count": null,
   "id": "ece3099b",
   "metadata": {},
   "outputs": [],
   "source": []
  },
  {
   "cell_type": "code",
   "execution_count": null,
   "id": "a5856dcf",
   "metadata": {},
   "outputs": [],
   "source": []
  },
  {
   "cell_type": "code",
   "execution_count": null,
   "id": "19254994",
   "metadata": {},
   "outputs": [],
   "source": []
  },
  {
   "cell_type": "code",
   "execution_count": null,
   "id": "c50217cb",
   "metadata": {},
   "outputs": [],
   "source": []
  },
  {
   "cell_type": "code",
   "execution_count": null,
   "id": "29afad97",
   "metadata": {},
   "outputs": [],
   "source": []
  },
  {
   "cell_type": "code",
   "execution_count": null,
   "id": "afc23539",
   "metadata": {},
   "outputs": [],
   "source": []
  },
  {
   "cell_type": "code",
   "execution_count": null,
   "id": "e459c2d8",
   "metadata": {},
   "outputs": [],
   "source": []
  },
  {
   "cell_type": "code",
   "execution_count": null,
   "id": "84dae7e3",
   "metadata": {},
   "outputs": [],
   "source": []
  },
  {
   "cell_type": "code",
   "execution_count": null,
   "id": "2de1ece8",
   "metadata": {},
   "outputs": [],
   "source": []
  },
  {
   "cell_type": "code",
   "execution_count": null,
   "id": "8788a888",
   "metadata": {},
   "outputs": [],
   "source": []
  },
  {
   "cell_type": "code",
   "execution_count": null,
   "id": "bbdfbcd5",
   "metadata": {},
   "outputs": [],
   "source": []
  },
  {
   "cell_type": "code",
   "execution_count": null,
   "id": "aab74a04",
   "metadata": {},
   "outputs": [],
   "source": []
  },
  {
   "cell_type": "code",
   "execution_count": null,
   "id": "f20c8e96",
   "metadata": {},
   "outputs": [],
   "source": []
  },
  {
   "cell_type": "code",
   "execution_count": null,
   "id": "ab083a3d",
   "metadata": {},
   "outputs": [],
   "source": []
  },
  {
   "cell_type": "code",
   "execution_count": null,
   "id": "862231eb",
   "metadata": {},
   "outputs": [],
   "source": []
  },
  {
   "cell_type": "code",
   "execution_count": null,
   "id": "3562a337",
   "metadata": {},
   "outputs": [],
   "source": []
  },
  {
   "cell_type": "code",
   "execution_count": null,
   "id": "18b1f4f9",
   "metadata": {},
   "outputs": [],
   "source": []
  },
  {
   "cell_type": "code",
   "execution_count": null,
   "id": "3d770916",
   "metadata": {},
   "outputs": [],
   "source": []
  },
  {
   "cell_type": "code",
   "execution_count": null,
   "id": "1259866e",
   "metadata": {},
   "outputs": [],
   "source": []
  },
  {
   "cell_type": "code",
   "execution_count": null,
   "id": "7e4357cc",
   "metadata": {},
   "outputs": [],
   "source": []
  },
  {
   "cell_type": "code",
   "execution_count": null,
   "id": "ada1059f",
   "metadata": {},
   "outputs": [],
   "source": []
  },
  {
   "cell_type": "code",
   "execution_count": null,
   "id": "e70a89c7",
   "metadata": {},
   "outputs": [],
   "source": []
  },
  {
   "cell_type": "code",
   "execution_count": null,
   "id": "7da6ad97",
   "metadata": {},
   "outputs": [],
   "source": []
  },
  {
   "cell_type": "code",
   "execution_count": null,
   "id": "2701a755",
   "metadata": {},
   "outputs": [],
   "source": []
  },
  {
   "cell_type": "code",
   "execution_count": null,
   "id": "bf7a5eaa",
   "metadata": {},
   "outputs": [],
   "source": []
  },
  {
   "cell_type": "code",
   "execution_count": null,
   "id": "dff255df",
   "metadata": {},
   "outputs": [],
   "source": []
  },
  {
   "cell_type": "code",
   "execution_count": null,
   "id": "2fe52d9e",
   "metadata": {},
   "outputs": [],
   "source": []
  },
  {
   "cell_type": "code",
   "execution_count": null,
   "id": "b71e9da0",
   "metadata": {},
   "outputs": [],
   "source": []
  },
  {
   "cell_type": "code",
   "execution_count": null,
   "id": "d53fd49f",
   "metadata": {},
   "outputs": [],
   "source": []
  },
  {
   "cell_type": "code",
   "execution_count": null,
   "id": "16a61bc9",
   "metadata": {},
   "outputs": [],
   "source": []
  },
  {
   "cell_type": "code",
   "execution_count": null,
   "id": "4ec6836e",
   "metadata": {},
   "outputs": [],
   "source": []
  },
  {
   "cell_type": "code",
   "execution_count": null,
   "id": "3a552a3b",
   "metadata": {},
   "outputs": [],
   "source": []
  },
  {
   "cell_type": "code",
   "execution_count": null,
   "id": "c655fe84",
   "metadata": {},
   "outputs": [],
   "source": []
  },
  {
   "cell_type": "code",
   "execution_count": null,
   "id": "b3f8cbde",
   "metadata": {},
   "outputs": [],
   "source": []
  },
  {
   "cell_type": "code",
   "execution_count": null,
   "id": "07cb94e0",
   "metadata": {},
   "outputs": [],
   "source": []
  },
  {
   "cell_type": "code",
   "execution_count": null,
   "id": "132502c8",
   "metadata": {},
   "outputs": [],
   "source": []
  },
  {
   "cell_type": "code",
   "execution_count": null,
   "id": "19437c87",
   "metadata": {},
   "outputs": [],
   "source": []
  },
  {
   "cell_type": "code",
   "execution_count": null,
   "id": "94069b86",
   "metadata": {},
   "outputs": [],
   "source": []
  },
  {
   "cell_type": "code",
   "execution_count": null,
   "id": "c51f2877",
   "metadata": {},
   "outputs": [],
   "source": []
  },
  {
   "cell_type": "code",
   "execution_count": null,
   "id": "9aba5bbf",
   "metadata": {},
   "outputs": [],
   "source": []
  },
  {
   "cell_type": "code",
   "execution_count": null,
   "id": "82015d35",
   "metadata": {},
   "outputs": [],
   "source": []
  }
 ],
 "metadata": {
  "kernelspec": {
   "display_name": "Python 3",
   "language": "python",
   "name": "python3"
  },
  "language_info": {
   "codemirror_mode": {
    "name": "ipython",
    "version": 3
   },
   "file_extension": ".py",
   "mimetype": "text/x-python",
   "name": "python",
   "nbconvert_exporter": "python",
   "pygments_lexer": "ipython3",
   "version": "3.8.8"
  }
 },
 "nbformat": 4,
 "nbformat_minor": 5
}
