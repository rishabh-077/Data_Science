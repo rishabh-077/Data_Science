{
 "cells": [
  {
   "cell_type": "code",
   "execution_count": 29,
   "id": "35a398dd",
   "metadata": {},
   "outputs": [
    {
     "name": "stdout",
     "output_type": "stream",
     "text": [
      "ghbhx\n"
     ]
    }
   ],
   "source": [
    "print(f'ghbhx')"
   ]
  },
  {
   "cell_type": "code",
   "execution_count": 30,
   "id": "62c2eaca",
   "metadata": {},
   "outputs": [
    {
     "ename": "SyntaxError",
     "evalue": "EOL while scanning string literal (<ipython-input-30-f1400f4610c7>, line 1)",
     "output_type": "error",
     "traceback": [
      "\u001b[1;36m  File \u001b[1;32m\"<ipython-input-30-f1400f4610c7>\"\u001b[1;36m, line \u001b[1;32m1\u001b[0m\n\u001b[1;33m    print(f'12)\u001b[0m\n\u001b[1;37m               ^\u001b[0m\n\u001b[1;31mSyntaxError\u001b[0m\u001b[1;31m:\u001b[0m EOL while scanning string literal\n"
     ]
    }
   ],
   "source": [
    "print(f'12)"
   ]
  },
  {
   "cell_type": "code",
   "execution_count": 31,
   "id": "904465f6",
   "metadata": {},
   "outputs": [
    {
     "name": "stdout",
     "output_type": "stream",
     "text": [
      "starting the constructor(self)\n"
     ]
    }
   ],
   "source": [
    "print(f'starting the constructor(self)')"
   ]
  },
  {
   "cell_type": "code",
   "execution_count": null,
   "id": "f615352a",
   "metadata": {},
   "outputs": [],
   "source": [
    "Create a contact class\n",
    "Define a constructor\n",
    "\n",
    "\n",
    "\n",
    "\n",
    "\n",
    "Create 5 contact objects\n",
    "Each object will take name, mob, email while creating the object\n",
    "There is contact list as class variable where the contact object will be appended at the time of instantiation,"
   ]
  },
  {
   "cell_type": "code",
   "execution_count": 34,
   "id": "636aec29",
   "metadata": {},
   "outputs": [
    {
     "name": "stdout",
     "output_type": "stream",
     "text": [
      "starting of constructor\n",
      "stopping of constructor\n",
      "<__main__.Contact object at 0x0000023F7802B1C0>\n",
      "cont1 name: Rishabh Id:2471619637696\n",
      "Name of 1st object in contact_lst: Rishabh\n",
      "\n",
      "\n",
      "starting of constructor\n",
      "stopping of constructor\n",
      "<__main__.Contact object at 0x0000023F77F069A0>\n",
      "cont2 name: Rishika Id:2471618439584\n",
      "Name of 2nd object in contact_2nd: Rishika\n",
      "\n",
      "starting of constructor\n",
      "stopping of constructor\n",
      "<__main__.Contact object at 0x0000023F780186A0>\n",
      "cont3 name: Mini Id:2471619561120\n",
      "Name of 3rd object in contact_3rd: Mini\n",
      "\n",
      "starting of constructor\n",
      "stopping of constructor\n",
      "<__main__.Contact object at 0x0000023F78018790>\n",
      "cont4 name: Ruchi Id:2471619561360\n",
      "Name of 4th object in contact_4th: Ruchi\n",
      "\n",
      "starting of constructor\n",
      "stopping of constructor\n",
      "<__main__.Contact object at 0x0000023F78018E20>\n",
      "cont5 name: Anshul Id:2471619563040\n",
      "Name of 5th object in contact_5th: Anshul\n",
      "\n",
      "[<__main__.Contact object at 0x0000023F7802B1C0>, <__main__.Contact object at 0x0000023F77F069A0>, <__main__.Contact object at 0x0000023F780186A0>, <__main__.Contact object at 0x0000023F78018790>, <__main__.Contact object at 0x0000023F78018E20>]\n"
     ]
    }
   ],
   "source": [
    "# using concept of class variables and instance variables\n",
    "# also the concept of append, class method, instance method and static method\n",
    "\n",
    "\n",
    "\n",
    "\n",
    "class Contact:\n",
    "    '''this is a contact class and it will hild details around the contacts'''\n",
    "    contact_lst = []\n",
    "    def __init__(self, cont_name, cont_mob, cont_email):\n",
    "        print('starting of constructor')\n",
    "        self.name = cont_name\n",
    "        self.mob = cont_mob\n",
    "        self.email = cont_email\n",
    "        Contact.contact_lst.append(self)\n",
    "        print('stopping of constructor')\n",
    "        \n",
    "cont1 = Contact('Rishabh', 1122334455, '1@2.com')\n",
    "print(cont1)\n",
    "print(f\"cont1 name: {cont1.name} Id:{id(cont1)}\")      \n",
    "print(f\"Name of 1st object in contact_lst: {cont1.contact_lst[0].name}\")\n",
    "print()\n",
    "print()\n",
    "cont2 = Contact('Rishika', 2233445566, '3@4.com')\n",
    "print(cont2)\n",
    "print(f\"cont2 name: {cont2.name} Id:{id(cont2)}\")      \n",
    "print(f\"Name of 2nd object in contact_2nd: {cont2.contact_lst[1].name}\")\n",
    "print()\n",
    "cont3 = Contact('Mini', 3344556677, '5@6.com')\n",
    "print(cont3)\n",
    "print(f\"cont3 name: {cont3.name} Id:{id(cont3)}\")      \n",
    "print(f\"Name of 3rd object in contact_3rd: {cont3.contact_lst[2].name}\")\n",
    "print()\n",
    "cont4 = Contact('Ruchi', 4455667788, '7@8.com')\n",
    "print(cont4)\n",
    "print(f\"cont4 name: {cont4.name} Id:{id(cont4)}\")      \n",
    "print(f\"Name of 4th object in contact_4th: {cont4.contact_lst[3].name}\")\n",
    "print()\n",
    "cont5 = Contact('Anshul', 5566778899, '9@0.com')\n",
    "print(cont5)\n",
    "print(f\"cont5 name: {cont5.name} Id:{id(cont5)}\")      \n",
    "print(f\"Name of 5th object in contact_5th: {cont5.contact_lst[4].name}\")\n",
    "print()\n",
    "\n",
    "print(Contact.contact_lst)"
   ]
  },
  {
   "cell_type": "code",
   "execution_count": 49,
   "id": "2a0366cb",
   "metadata": {},
   "outputs": [],
   "source": [
    "# using concept of Inheritance\n",
    "\n",
    "\n",
    "class Employee:\n",
    "    def set_name(self, emp_name):\n",
    "        self.emp_name = emp_name\n",
    "        \n",
    "    def get_name(self):\n",
    "        return self.emp_name\n",
    "\n",
    "    def set_emp_id(self, emp_id):\n",
    "        self.emp_id = emp_id\n",
    "        \n",
    "    def get_emp_id(self):\n",
    "        return self.emp_id\n",
    "    \n",
    "    def set_emp_sal(self, emp_sal):\n",
    "        self.emp_sal = emp_sal\n",
    "        \n",
    "    def get_emp_sal(self):\n",
    "        return self.emp_sal\n",
    "        "
   ]
  },
  {
   "cell_type": "code",
   "execution_count": 53,
   "id": "6ba9e78c",
   "metadata": {},
   "outputs": [],
   "source": [
    "class Manager(Employee):\n",
    "    def set_emp_designation(self, emp_designation):\n",
    "        self.emp_designation = emp_designation\n",
    "        \n",
    "    def get_emp_designation(self):\n",
    "        return self.emp_designation"
   ]
  },
  {
   "cell_type": "code",
   "execution_count": 57,
   "id": "9e2573e8",
   "metadata": {},
   "outputs": [
    {
     "name": "stdout",
     "output_type": "stream",
     "text": [
      "Rishabh\n",
      "970\n",
      "1000000\n",
      "Manager\n"
     ]
    }
   ],
   "source": [
    "m1 = Manager()\n",
    "\n",
    "m1.set_name(\"Rishabh\")\n",
    "m1.set_emp_id(970)\n",
    "m1.set_emp_sal(1000000)\n",
    "m1.set_emp_designation('Manager')\n",
    "\n",
    "print(m1.get_name())\n",
    "print(m1.get_emp_id())\n",
    "print(m1.get_emp_sal())\n",
    "print(m1.get_emp_designation())"
   ]
  },
  {
   "cell_type": "code",
   "execution_count": null,
   "id": "e337ba62",
   "metadata": {},
   "outputs": [],
   "source": [
    "class A:\n",
    "    def __init__(self):\n",
    "        print('Class A Constructor')\n",
    "        super().__init__()\n",
    "        \n",
    "class B:\n",
    "    def __init__(self):\n",
    "        print('Class B Constructor')\n",
    "        super().__init__()\n",
    "        \n",
    "class C:\n",
    "    def __init__(self):\n",
    "        print('Class C Constructor')\n",
    "        super().__init__()\n",
    "        \n",
    "class D(A,B):\n",
    "    def __init__(self):\n",
    "        print('Class D Constructor')\n",
    "        super().__init__()\n",
    "        \n",
    "class E(B,C):\n",
    "    def __init__(self):\n",
    "        print('Class E Constructor')\n",
    "        super().__init__()\n",
    "        \n",
    "class F(D, E, C):\n",
    "    def __init__(self):\n",
    "        print('Class F Constructor')\n",
    "        super().__init__()\n",
    "        \n",
    "f = F()"
   ]
  },
  {
   "cell_type": "code",
   "execution_count": null,
   "id": "2696aae4",
   "metadata": {},
   "outputs": [],
   "source": []
  },
  {
   "cell_type": "code",
   "execution_count": null,
   "id": "7e01ade4",
   "metadata": {},
   "outputs": [],
   "source": []
  },
  {
   "cell_type": "code",
   "execution_count": null,
   "id": "d941312a",
   "metadata": {},
   "outputs": [],
   "source": []
  },
  {
   "cell_type": "code",
   "execution_count": null,
   "id": "6316a8a3",
   "metadata": {},
   "outputs": [],
   "source": []
  },
  {
   "cell_type": "code",
   "execution_count": null,
   "id": "b0f4f292",
   "metadata": {},
   "outputs": [],
   "source": []
  },
  {
   "cell_type": "code",
   "execution_count": null,
   "id": "a5283084",
   "metadata": {},
   "outputs": [],
   "source": []
  },
  {
   "cell_type": "code",
   "execution_count": null,
   "id": "2f245afc",
   "metadata": {},
   "outputs": [],
   "source": []
  },
  {
   "cell_type": "code",
   "execution_count": null,
   "id": "6605175e",
   "metadata": {},
   "outputs": [],
   "source": []
  },
  {
   "cell_type": "code",
   "execution_count": null,
   "id": "8d585e03",
   "metadata": {},
   "outputs": [],
   "source": []
  },
  {
   "cell_type": "code",
   "execution_count": null,
   "id": "5c505c1c",
   "metadata": {},
   "outputs": [],
   "source": []
  },
  {
   "cell_type": "code",
   "execution_count": null,
   "id": "7ac319e5",
   "metadata": {},
   "outputs": [],
   "source": []
  },
  {
   "cell_type": "code",
   "execution_count": null,
   "id": "b043b0d7",
   "metadata": {},
   "outputs": [],
   "source": []
  },
  {
   "cell_type": "code",
   "execution_count": null,
   "id": "6888985c",
   "metadata": {},
   "outputs": [],
   "source": []
  },
  {
   "cell_type": "code",
   "execution_count": null,
   "id": "61ff9aab",
   "metadata": {},
   "outputs": [],
   "source": []
  },
  {
   "cell_type": "code",
   "execution_count": null,
   "id": "2f854bd8",
   "metadata": {},
   "outputs": [],
   "source": []
  },
  {
   "cell_type": "code",
   "execution_count": null,
   "id": "54ee813b",
   "metadata": {},
   "outputs": [],
   "source": []
  },
  {
   "cell_type": "code",
   "execution_count": null,
   "id": "d93ef1c6",
   "metadata": {},
   "outputs": [],
   "source": []
  },
  {
   "cell_type": "code",
   "execution_count": null,
   "id": "a3fa7738",
   "metadata": {},
   "outputs": [],
   "source": []
  }
 ],
 "metadata": {
  "kernelspec": {
   "display_name": "Python 3",
   "language": "python",
   "name": "python3"
  },
  "language_info": {
   "codemirror_mode": {
    "name": "ipython",
    "version": 3
   },
   "file_extension": ".py",
   "mimetype": "text/x-python",
   "name": "python",
   "nbconvert_exporter": "python",
   "pygments_lexer": "ipython3",
   "version": "3.8.8"
  }
 },
 "nbformat": 4,
 "nbformat_minor": 5
}
