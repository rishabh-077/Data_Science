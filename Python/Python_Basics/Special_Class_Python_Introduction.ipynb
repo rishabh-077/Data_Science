{
 "cells": [
  {
   "cell_type": "code",
   "execution_count": 1,
   "id": "6228d2b5",
   "metadata": {},
   "outputs": [
    {
     "name": "stdout",
     "output_type": "stream",
     "text": [
      "hello\n"
     ]
    }
   ],
   "source": [
    "print('hello')"
   ]
  },
  {
   "cell_type": "markdown",
   "id": "4880fb7a",
   "metadata": {},
   "source": [
    "# Rishabh\n",
    "- dd"
   ]
  },
  {
   "cell_type": "code",
   "execution_count": 3,
   "id": "57a8f10e",
   "metadata": {},
   "outputs": [
    {
     "name": "stdout",
     "output_type": "stream",
     "text": [
      "['False', 'None', 'True', 'and', 'as', 'assert', 'async', 'await', 'break', 'class', 'continue', 'def', 'del', 'elif', 'else', 'except', 'finally', 'for', 'from', 'global', 'if', 'import', 'in', 'is', 'lambda', 'nonlocal', 'not', 'or', 'pass', 'raise', 'return', 'try', 'while', 'with', 'yield']\n"
     ]
    }
   ],
   "source": [
    "#Keywords\n",
    "\n",
    "import keyword\n",
    "print(keyword.kwlist)"
   ]
  },
  {
   "cell_type": "code",
   "execution_count": null,
   "id": "e1fde9f7",
   "metadata": {},
   "outputs": [],
   "source": [
    "\n",
    " #Identifiers---\n",
    "\n",
    "any name can be given to a variable, class , function\n",
    "Rules\n",
    " \n",
    "--> It should only contain A-Z, a-z, 0-9, _\n",
    "--> It should not start with a number\n",
    "--> It is case sensitive\n",
    "--> It can be of any length\n",
    "--> It cannot be a  keyword\n",
    "\n",
    "# Data types\n",
    "\n",
    "--> Fundamental datatypes - basic datatypes\n",
    "\n",
    "int - any value without a decimal point is called as integer -inf to +inf\n",
    "float - any value with a decimal point -inf to +inf \n",
    "None - null value \n",
    "str - anything that can be written inside '...' , \"...\" , '''...''' , \"\"\"...\"\"\"\n",
    "bool - True and false\n",
    "complex - anything that can be written in form of a+bj where a is real and b is imaginary\n",
    "\n",
    "--> Derived data types\n",
    "list\n",
    "tuple\n",
    "set"
   ]
  },
  {
   "cell_type": "code",
   "execution_count": 2,
   "id": "a8a43e30",
   "metadata": {},
   "outputs": [
    {
     "name": "stdout",
     "output_type": "stream",
     "text": [
      "140712143169616\n",
      "<class 'int'>\n"
     ]
    }
   ],
   "source": [
    "a = 10\n",
    "print (id(a))\n",
    "print(type(a))"
   ]
  },
  {
   "cell_type": "code",
   "execution_count": null,
   "id": "da6b25b3",
   "metadata": {},
   "outputs": [],
   "source": []
  },
  {
   "cell_type": "code",
   "execution_count": 3,
   "id": "161e09e1",
   "metadata": {},
   "outputs": [
    {
     "name": "stdout",
     "output_type": "stream",
     "text": [
      "python\n",
      "python\n",
      "python\n"
     ]
    }
   ],
   "source": [
    "a = 'python'\n",
    "b = \"python\"\n",
    "c = '''python'''\n",
    "\n",
    "print(a)\n",
    "print(b)\n",
    "print(c)\n",
    "\n"
   ]
  },
  {
   "cell_type": "code",
   "execution_count": 4,
   "id": "e968e596",
   "metadata": {},
   "outputs": [
    {
     "ename": "SyntaxError",
     "evalue": "invalid syntax (<ipython-input-4-6b771668283d>, line 1)",
     "output_type": "error",
     "traceback": [
      "\u001b[1;36m  File \u001b[1;32m\"<ipython-input-4-6b771668283d>\"\u001b[1;36m, line \u001b[1;32m1\u001b[0m\n\u001b[1;33m    a = 'this is a python's class'\u001b[0m\n\u001b[1;37m                          ^\u001b[0m\n\u001b[1;31mSyntaxError\u001b[0m\u001b[1;31m:\u001b[0m invalid syntax\n"
     ]
    }
   ],
   "source": [
    " a = 'this is a python's class'\n",
    "    "
   ]
  },
  {
   "cell_type": "code",
   "execution_count": 7,
   "id": "90fef6ba",
   "metadata": {},
   "outputs": [
    {
     "name": "stdout",
     "output_type": "stream",
     "text": [
      "this is a pthon's class\n"
     ]
    }
   ],
   "source": [
    "a = \"this is a pthon's class\"\n",
    "print(a)"
   ]
  },
  {
   "cell_type": "code",
   "execution_count": 8,
   "id": "ffd48cff",
   "metadata": {},
   "outputs": [
    {
     "ename": "SyntaxError",
     "evalue": "EOL while scanning string literal (<ipython-input-8-76d8ca776f0a>, line 1)",
     "output_type": "error",
     "traceback": [
      "\u001b[1;36m  File \u001b[1;32m\"<ipython-input-8-76d8ca776f0a>\"\u001b[1;36m, line \u001b[1;32m1\u001b[0m\n\u001b[1;33m    a = 'abc\u001b[0m\n\u001b[1;37m            ^\u001b[0m\n\u001b[1;31mSyntaxError\u001b[0m\u001b[1;31m:\u001b[0m EOL while scanning string literal\n"
     ]
    }
   ],
   "source": [
    "a = 'abc\n",
    "xyz\n",
    "aeiou'"
   ]
  },
  {
   "cell_type": "code",
   "execution_count": 9,
   "id": "92ed6929",
   "metadata": {},
   "outputs": [
    {
     "ename": "SyntaxError",
     "evalue": "EOL while scanning string literal (<ipython-input-9-3fb6ea0d3174>, line 1)",
     "output_type": "error",
     "traceback": [
      "\u001b[1;36m  File \u001b[1;32m\"<ipython-input-9-3fb6ea0d3174>\"\u001b[1;36m, line \u001b[1;32m1\u001b[0m\n\u001b[1;33m    a = \"abc\u001b[0m\n\u001b[1;37m            ^\u001b[0m\n\u001b[1;31mSyntaxError\u001b[0m\u001b[1;31m:\u001b[0m EOL while scanning string literal\n"
     ]
    }
   ],
   "source": [
    "# Note - you cannot use \"...\" , '...' for writing multiple lines\n",
    "\n",
    "a = \"abc\n",
    "xyz\n",
    "aeiou\""
   ]
  },
  {
   "cell_type": "code",
   "execution_count": 10,
   "id": "50c9ffe3",
   "metadata": {},
   "outputs": [
    {
     "name": "stdout",
     "output_type": "stream",
     "text": [
      "abc\n",
      "xyz\n",
      "aeiou\n"
     ]
    }
   ],
   "source": [
    "a = '''abc\n",
    "xyz\n",
    "aeiou'''\n",
    "print(a)"
   ]
  },
  {
   "cell_type": "code",
   "execution_count": 11,
   "id": "1a522044",
   "metadata": {},
   "outputs": [
    {
     "name": "stdout",
     "output_type": "stream",
     "text": [
      "abc\n",
      "xyz\n",
      "aeiou\n"
     ]
    }
   ],
   "source": [
    "a = \"abc\\nxyz\\naeiou\"\n",
    "print(a)"
   ]
  },
  {
   "cell_type": "code",
   "execution_count": null,
   "id": "9b6dec43",
   "metadata": {},
   "outputs": [],
   "source": [
    "#Arthametic operator\n",
    "\n",
    "add - +\n",
    "sub - -\n",
    "multiply - *\n",
    "modulus - %\n",
    "float division - /\n",
    "exponent - **\n",
    "floor division - //\n",
    "\n"
   ]
  },
  {
   "cell_type": "code",
   "execution_count": 18,
   "id": "13fc5ff1",
   "metadata": {},
   "outputs": [
    {
     "name": "stdout",
     "output_type": "stream",
     "text": [
      "13\n",
      "7\n",
      "30\n",
      "2.4\n",
      "6\n",
      "2.0\n",
      "5\n",
      "8\n"
     ]
    }
   ],
   "source": [
    "# add +\n",
    "\n",
    "print(10+3)\n",
    "\n",
    "# sub -\n",
    "\n",
    "print(10-3)\n",
    "\n",
    "# multiply *\n",
    "\n",
    "print(10*3)\n",
    "\n",
    "# float division / output will always be in float\n",
    "\n",
    "print(12/5)\n",
    "\n",
    "# floor division / output will always be in float\n",
    "\n",
    "print(13//2)\n",
    "\n",
    "# floor division / output will always be in float\n",
    "\n",
    "print(12.0//5)\n",
    "\n",
    "# modulus % remainder\n",
    "\n",
    "print(12%7)\n",
    "\n",
    "# exponent ** raised to power\n",
    "\n",
    "print(2**3)"
   ]
  },
  {
   "cell_type": "code",
   "execution_count": 15,
   "id": "0a582afb",
   "metadata": {},
   "outputs": [
    {
     "ename": "SyntaxError",
     "evalue": "invalid syntax (<ipython-input-15-cdecaa9c3257>, line 1)",
     "output_type": "error",
     "traceback": [
      "\u001b[1;36m  File \u001b[1;32m\"<ipython-input-15-cdecaa9c3257>\"\u001b[1;36m, line \u001b[1;32m1\u001b[0m\n\u001b[1;33m    floor  ceiling\u001b[0m\n\u001b[1;37m           ^\u001b[0m\n\u001b[1;31mSyntaxError\u001b[0m\u001b[1;31m:\u001b[0m invalid syntax\n"
     ]
    }
   ],
   "source": [
    "floor  ceiling\n",
    "\n",
    "2  2.4 3 "
   ]
  },
  {
   "cell_type": "code",
   "execution_count": null,
   "id": "3f3b97dd",
   "metadata": {},
   "outputs": [],
   "source": [
    "floor  ceiling\n",
    "\n",
    "8.0  8.8  9.0 \n",
    "\n",
    "floor  ceiling\n",
    "\n",
    "8  8  9"
   ]
  },
  {
   "cell_type": "code",
   "execution_count": null,
   "id": "e7bc3294",
   "metadata": {},
   "outputs": [],
   "source": [
    "# comments\n",
    "\n",
    "- it is used to explain python code\n",
    "- it helps us to understand the code\n",
    "- it helps us to stop the particular execution "
   ]
  },
  {
   "cell_type": "code",
   "execution_count": null,
   "id": "fb6e41e3",
   "metadata": {},
   "outputs": [],
   "source": [
    "# area of a square\n",
    "\n",
    "pi = 3.14  # it's a pi value\n",
    "\n",
    "r = 5      # side of asquare\n",
    "\n",
    "a = r*r    # area of square\n",
    "\n",
    "print(a)"
   ]
  },
  {
   "cell_type": "code",
   "execution_count": null,
   "id": "d9dd5d85",
   "metadata": {},
   "outputs": [],
   "source": [
    "# comparison operator - < , > , <= , >=\n",
    "\n",
    "- will always give  the output in boolean (True nd False)"
   ]
  },
  {
   "cell_type": "code",
   "execution_count": 19,
   "id": "758a1ec4",
   "metadata": {},
   "outputs": [
    {
     "name": "stdout",
     "output_type": "stream",
     "text": [
      "True\n"
     ]
    }
   ],
   "source": [
    "print(10<20)"
   ]
  },
  {
   "cell_type": "code",
   "execution_count": 20,
   "id": "07f6e48c",
   "metadata": {},
   "outputs": [
    {
     "name": "stdout",
     "output_type": "stream",
     "text": [
      "True\n"
     ]
    }
   ],
   "source": [
    "print(21<=21)"
   ]
  },
  {
   "cell_type": "code",
   "execution_count": 21,
   "id": "29a2a935",
   "metadata": {},
   "outputs": [
    {
     "name": "stdout",
     "output_type": "stream",
     "text": [
      "False\n"
     ]
    }
   ],
   "source": [
    "print(21<21)"
   ]
  },
  {
   "cell_type": "code",
   "execution_count": 22,
   "id": "3b0fc51a",
   "metadata": {},
   "outputs": [
    {
     "name": "stdout",
     "output_type": "stream",
     "text": [
      "True\n"
     ]
    }
   ],
   "source": [
    "print(21>=21)"
   ]
  },
  {
   "cell_type": "code",
   "execution_count": 23,
   "id": "64a1e655",
   "metadata": {},
   "outputs": [
    {
     "name": "stdout",
     "output_type": "stream",
     "text": [
      "True\n"
     ]
    }
   ],
   "source": [
    "print('abc' < 'afaaan')"
   ]
  },
  {
   "cell_type": "code",
   "execution_count": 24,
   "id": "276f7b1c",
   "metadata": {},
   "outputs": [
    {
     "name": "stdout",
     "output_type": "stream",
     "text": [
      "False\n"
     ]
    }
   ],
   "source": [
    "print('afsan' < 'afsaan')"
   ]
  },
  {
   "cell_type": "code",
   "execution_count": null,
   "id": "28058330",
   "metadata": {},
   "outputs": [],
   "source": [
    "list - anything enclosed inside [] and elements are seperated by commas \n",
    "\n",
    "tuple - anything enclosed inside () and elements are seperated by commas \n",
    "\n",
    "dict - anything enclosed inside {} and elements are key value seperated by commas \n",
    "\n",
    "set - anything enclosed inside {} and elements are seperated by commas "
   ]
  },
  {
   "cell_type": "code",
   "execution_count": 25,
   "id": "3b6241b9",
   "metadata": {},
   "outputs": [
    {
     "name": "stdout",
     "output_type": "stream",
     "text": [
      "[1, 2, 3, 4, 5, 6]\n",
      "<class 'list'>\n"
     ]
    }
   ],
   "source": [
    "list_1 = [1,2,3,4,5,6]\n",
    "print(list_1)\n",
    "print(type(list_1))"
   ]
  },
  {
   "cell_type": "code",
   "execution_count": 26,
   "id": "4dd5e564",
   "metadata": {},
   "outputs": [
    {
     "name": "stdout",
     "output_type": "stream",
     "text": [
      "(1, 2, 3, 4, 5, 6)\n",
      "<class 'tuple'>\n"
     ]
    }
   ],
   "source": [
    "tuple_1 = (1,2,3,4,5,6)\n",
    "print(tuple_1)\n",
    "print(type(tuple_1))"
   ]
  },
  {
   "cell_type": "code",
   "execution_count": 27,
   "id": "1093ad3e",
   "metadata": {},
   "outputs": [
    {
     "name": "stdout",
     "output_type": "stream",
     "text": [
      "{1, 2, 3, 4, 5, 6}\n",
      "<class 'set'>\n"
     ]
    }
   ],
   "source": [
    "set_1 = {1,2,3,4,5,6}\n",
    "print(set_1)\n",
    "print(type(set_1))"
   ]
  },
  {
   "cell_type": "code",
   "execution_count": 28,
   "id": "08847cc1",
   "metadata": {},
   "outputs": [
    {
     "name": "stdout",
     "output_type": "stream",
     "text": [
      "<class 'dict'>\n"
     ]
    }
   ],
   "source": [
    "print(type({1:2 , 2:3 , 4:5}))"
   ]
  },
  {
   "cell_type": "code",
   "execution_count": null,
   "id": "6510aaf6",
   "metadata": {},
   "outputs": [],
   "source": []
  }
 ],
 "metadata": {
  "kernelspec": {
   "display_name": "Python 3",
   "language": "python",
   "name": "python3"
  },
  "language_info": {
   "codemirror_mode": {
    "name": "ipython",
    "version": 3
   },
   "file_extension": ".py",
   "mimetype": "text/x-python",
   "name": "python",
   "nbconvert_exporter": "python",
   "pygments_lexer": "ipython3",
   "version": "3.8.8"
  }
 },
 "nbformat": 4,
 "nbformat_minor": 5
}
